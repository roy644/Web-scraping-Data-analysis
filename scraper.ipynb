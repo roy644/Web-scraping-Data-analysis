{
  "cells": [
    {
      "cell_type": "markdown",
      "metadata": {
        "id": "view-in-github",
        "colab_type": "text"
      },
      "source": [
        "<a href=\"https://colab.research.google.com/github/roy644/Web-scraping-Data-analysis/blob/main/scraper.ipynb\" target=\"_parent\"><img src=\"https://colab.research.google.com/assets/colab-badge.svg\" alt=\"Open In Colab\"/></a>"
      ]
    },
    {
      "cell_type": "code",
      "execution_count": 2,
      "source": [
        "%matplotlib inline\n",
        "import pandas as pd\n",
        "import requests\n",
        "import json\n",
        "import numpy as np\n",
        "\n",
        "api_url = 'https://api.bls.gov/publicAPI/v2/timeseries/data/'\n",
        "\n",
        "bls_key = '1b078617a6c94d6ab62e748cea831667'\n",
        "#import config\n",
        "key = '?registrationkey={}'.format(bls_key)"
      ],
      "outputs": [],
      "metadata": {
        "id": "hCCyEjw4EOsl"
      },
      "id": "hCCyEjw4EOsl"
    },
    {
      "cell_type": "code",
      "execution_count": 3,
      "source": [
        "series_dict = {\n",
        "    \n",
        "    'CUUR0000SA0L1E': 'Consumer_price', \n",
        "    }\n",
        "\n",
        "# Start year and end year\n",
        "date_r = (1975, 2021)\n",
        "\n",
        "# Handle dates\n",
        "dates = [(str(date_r[0]), str(date_r[1]))]\n",
        "while int(dates[-1][1]) - int(dates[-1][0]) > 10:\n",
        "    dates = [(str(date_r[0]), str(date_r[0]+9))]\n",
        "    d1 = int(dates[-1][0])\n",
        "    while int(dates[-1][1]) < date_r[1]:\n",
        "        d1 = d1 + 10\n",
        "        d2 = min([date_r[1], d1+9])\n",
        "        dates.append((str(d1),(d2))) "
      ],
      "outputs": [],
      "metadata": {
        "id": "qSQ1eXcBEOsp"
      },
      "id": "qSQ1eXcBEOsp"
    },
    {
      "cell_type": "code",
      "execution_count": 4,
      "source": [
        "df = pd.DataFrame()\n",
        "\n",
        "for start, end in dates:\n",
        "    # Submit the list of series as data\n",
        "    data = json.dumps({\n",
        "        \"seriesid\": list(series_dict.keys()),\n",
        "        \"startyear\": start, \"endyear\": end})\n",
        "\n",
        "    # Post request for the data\n",
        "    p = requests.post(\n",
        "        '{}{}'.format(api_url, key), \n",
        "        headers={'Content-type': 'application/json'}, \n",
        "        data=data).json()\n",
        "    for s in p['Results']['series']:\n",
        "        col = series_dict[s['seriesID']]\n",
        "        for r in s['data']:\n",
        "            date = pd.to_datetime('{} {}'.format(\n",
        "                r['periodName'], r['year']))\n",
        "            df.at[date, col] = float(r['value'])\n",
        "df = df.sort_index()\n",
        "# Output results\n",
        "print('Post Request Status: {}'.format(p['status']))\n",
        "df.tail(13)"
      ],
      "outputs": [
        {
          "output_type": "stream",
          "name": "stdout",
          "text": [
            "Post Request Status: REQUEST_SUCCEEDED\n"
          ]
        },
        {
          "output_type": "execute_result",
          "data": {
            "text/plain": [
              "            Consumer_price\n",
              "2020-12-01         269.226\n",
              "2021-01-01         269.755\n",
              "2021-02-01         270.696\n",
              "2021-03-01         271.713\n",
              "2021-04-01         273.968\n",
              "2021-05-01         275.893\n",
              "2021-06-01         278.218\n",
              "2021-07-01         279.146\n",
              "2021-08-01         279.507\n",
              "2021-09-01         279.884\n",
              "2021-10-01         281.617\n",
              "2021-11-01         282.754\n",
              "2021-12-01         283.908"
            ],
            "text/html": [
              "\n",
              "  <div id=\"df-a1d5f2fd-315d-48f0-b256-c970c6eb2009\">\n",
              "    <div class=\"colab-df-container\">\n",
              "      <div>\n",
              "<style scoped>\n",
              "    .dataframe tbody tr th:only-of-type {\n",
              "        vertical-align: middle;\n",
              "    }\n",
              "\n",
              "    .dataframe tbody tr th {\n",
              "        vertical-align: top;\n",
              "    }\n",
              "\n",
              "    .dataframe thead th {\n",
              "        text-align: right;\n",
              "    }\n",
              "</style>\n",
              "<table border=\"1\" class=\"dataframe\">\n",
              "  <thead>\n",
              "    <tr style=\"text-align: right;\">\n",
              "      <th></th>\n",
              "      <th>Consumer_price</th>\n",
              "    </tr>\n",
              "  </thead>\n",
              "  <tbody>\n",
              "    <tr>\n",
              "      <th>2020-12-01</th>\n",
              "      <td>269.226</td>\n",
              "    </tr>\n",
              "    <tr>\n",
              "      <th>2021-01-01</th>\n",
              "      <td>269.755</td>\n",
              "    </tr>\n",
              "    <tr>\n",
              "      <th>2021-02-01</th>\n",
              "      <td>270.696</td>\n",
              "    </tr>\n",
              "    <tr>\n",
              "      <th>2021-03-01</th>\n",
              "      <td>271.713</td>\n",
              "    </tr>\n",
              "    <tr>\n",
              "      <th>2021-04-01</th>\n",
              "      <td>273.968</td>\n",
              "    </tr>\n",
              "    <tr>\n",
              "      <th>2021-05-01</th>\n",
              "      <td>275.893</td>\n",
              "    </tr>\n",
              "    <tr>\n",
              "      <th>2021-06-01</th>\n",
              "      <td>278.218</td>\n",
              "    </tr>\n",
              "    <tr>\n",
              "      <th>2021-07-01</th>\n",
              "      <td>279.146</td>\n",
              "    </tr>\n",
              "    <tr>\n",
              "      <th>2021-08-01</th>\n",
              "      <td>279.507</td>\n",
              "    </tr>\n",
              "    <tr>\n",
              "      <th>2021-09-01</th>\n",
              "      <td>279.884</td>\n",
              "    </tr>\n",
              "    <tr>\n",
              "      <th>2021-10-01</th>\n",
              "      <td>281.617</td>\n",
              "    </tr>\n",
              "    <tr>\n",
              "      <th>2021-11-01</th>\n",
              "      <td>282.754</td>\n",
              "    </tr>\n",
              "    <tr>\n",
              "      <th>2021-12-01</th>\n",
              "      <td>283.908</td>\n",
              "    </tr>\n",
              "  </tbody>\n",
              "</table>\n",
              "</div>\n",
              "      <button class=\"colab-df-convert\" onclick=\"convertToInteractive('df-a1d5f2fd-315d-48f0-b256-c970c6eb2009')\"\n",
              "              title=\"Convert this dataframe to an interactive table.\"\n",
              "              style=\"display:none;\">\n",
              "        \n",
              "  <svg xmlns=\"http://www.w3.org/2000/svg\" height=\"24px\"viewBox=\"0 0 24 24\"\n",
              "       width=\"24px\">\n",
              "    <path d=\"M0 0h24v24H0V0z\" fill=\"none\"/>\n",
              "    <path d=\"M18.56 5.44l.94 2.06.94-2.06 2.06-.94-2.06-.94-.94-2.06-.94 2.06-2.06.94zm-11 1L8.5 8.5l.94-2.06 2.06-.94-2.06-.94L8.5 2.5l-.94 2.06-2.06.94zm10 10l.94 2.06.94-2.06 2.06-.94-2.06-.94-.94-2.06-.94 2.06-2.06.94z\"/><path d=\"M17.41 7.96l-1.37-1.37c-.4-.4-.92-.59-1.43-.59-.52 0-1.04.2-1.43.59L10.3 9.45l-7.72 7.72c-.78.78-.78 2.05 0 2.83L4 21.41c.39.39.9.59 1.41.59.51 0 1.02-.2 1.41-.59l7.78-7.78 2.81-2.81c.8-.78.8-2.07 0-2.86zM5.41 20L4 18.59l7.72-7.72 1.47 1.35L5.41 20z\"/>\n",
              "  </svg>\n",
              "      </button>\n",
              "      \n",
              "  <style>\n",
              "    .colab-df-container {\n",
              "      display:flex;\n",
              "      flex-wrap:wrap;\n",
              "      gap: 12px;\n",
              "    }\n",
              "\n",
              "    .colab-df-convert {\n",
              "      background-color: #E8F0FE;\n",
              "      border: none;\n",
              "      border-radius: 50%;\n",
              "      cursor: pointer;\n",
              "      display: none;\n",
              "      fill: #1967D2;\n",
              "      height: 32px;\n",
              "      padding: 0 0 0 0;\n",
              "      width: 32px;\n",
              "    }\n",
              "\n",
              "    .colab-df-convert:hover {\n",
              "      background-color: #E2EBFA;\n",
              "      box-shadow: 0px 1px 2px rgba(60, 64, 67, 0.3), 0px 1px 3px 1px rgba(60, 64, 67, 0.15);\n",
              "      fill: #174EA6;\n",
              "    }\n",
              "\n",
              "    [theme=dark] .colab-df-convert {\n",
              "      background-color: #3B4455;\n",
              "      fill: #D2E3FC;\n",
              "    }\n",
              "\n",
              "    [theme=dark] .colab-df-convert:hover {\n",
              "      background-color: #434B5C;\n",
              "      box-shadow: 0px 1px 3px 1px rgba(0, 0, 0, 0.15);\n",
              "      filter: drop-shadow(0px 1px 2px rgba(0, 0, 0, 0.3));\n",
              "      fill: #FFFFFF;\n",
              "    }\n",
              "  </style>\n",
              "\n",
              "      <script>\n",
              "        const buttonEl =\n",
              "          document.querySelector('#df-a1d5f2fd-315d-48f0-b256-c970c6eb2009 button.colab-df-convert');\n",
              "        buttonEl.style.display =\n",
              "          google.colab.kernel.accessAllowed ? 'block' : 'none';\n",
              "\n",
              "        async function convertToInteractive(key) {\n",
              "          const element = document.querySelector('#df-a1d5f2fd-315d-48f0-b256-c970c6eb2009');\n",
              "          const dataTable =\n",
              "            await google.colab.kernel.invokeFunction('convertToInteractive',\n",
              "                                                     [key], {});\n",
              "          if (!dataTable) return;\n",
              "\n",
              "          const docLinkHtml = 'Like what you see? Visit the ' +\n",
              "            '<a target=\"_blank\" href=https://colab.research.google.com/notebooks/data_table.ipynb>data table notebook</a>'\n",
              "            + ' to learn more about interactive tables.';\n",
              "          element.innerHTML = '';\n",
              "          dataTable['output_type'] = 'display_data';\n",
              "          await google.colab.output.renderOutput(dataTable, element);\n",
              "          const docLink = document.createElement('div');\n",
              "          docLink.innerHTML = docLinkHtml;\n",
              "          element.appendChild(docLink);\n",
              "        }\n",
              "      </script>\n",
              "    </div>\n",
              "  </div>\n",
              "  "
            ]
          },
          "metadata": {},
          "execution_count": 4
        }
      ],
      "metadata": {
        "colab": {
          "base_uri": "https://localhost:8080/",
          "height": 475
        },
        "id": "RyikWOHNEOsp",
        "outputId": "cf7e3378-4f21-4897-de4c-bb14777314f6"
      },
      "id": "RyikWOHNEOsp"
    },
    {
      "cell_type": "code",
      "execution_count": 5,
      "source": [
        "import matplotlib.pyplot as plt\n",
        "plt.plot(df)"
      ],
      "outputs": [
        {
          "output_type": "execute_result",
          "data": {
            "text/plain": [
              "[<matplotlib.lines.Line2D at 0x7f91ce53ca90>]"
            ]
          },
          "metadata": {},
          "execution_count": 5
        },
        {
          "output_type": "display_data",
          "data": {
            "text/plain": [
              "<Figure size 432x288 with 1 Axes>"
            ],
            "image/png": "[encoded data removed]"
          },
          "metadata": {
            "needs_background": "light"
          }
        }
      ],
      "metadata": {
        "colab": {
          "base_uri": "https://localhost:8080/",
          "height": 283
        },
        "id": "GHxIGLTJEOsr",
        "outputId": "bf996dd8-d52e-4d05-cad8-ae7f943b080d"
      },
      "id": "GHxIGLTJEOsr"
    },
    {
      "cell_type": "code",
      "execution_count": 6,
      "source": [
        "from sklearn.preprocessing import MinMaxScaler\n",
        "scaler=MinMaxScaler(feature_range=(0,1))\n",
        "df=scaler.fit_transform(np.array(df).reshape(-1,1))"
      ],
      "outputs": [],
      "metadata": {
        "id": "eMgEH3stEOsr"
      },
      "id": "eMgEH3stEOsr"
    },
    {
      "cell_type": "code",
      "execution_count": 7,
      "source": [
        "training_size=int(len(df)*0.65)\n",
        "test_size=len(df)-training_size\n",
        "train_data,test_data=df[0:training_size,:],df[training_size:len(df),:1]"
      ],
      "outputs": [],
      "metadata": {
        "id": "GIRjwZvaEOss"
      },
      "id": "GIRjwZvaEOss"
    },
    {
      "cell_type": "code",
      "execution_count": 8,
      "source": [
        "import numpy\n",
        "# convert an array of values into a dataset matrix\n",
        "def create_dataset(dataset, time_step=1):\n",
        "\tdataX, dataY = [], []\n",
        "\tfor i in range(len(dataset)-time_step-1):\n",
        "\t\ta = dataset[i:(i+time_step), 0]   ###i=0, 0,1,2,3-----99   100 \n",
        "\t\tdataX.append(a)\n",
        "\t\tdataY.append(dataset[i + time_step, 0])\n",
        "\treturn numpy.array(dataX), numpy.array(dataY)"
      ],
      "outputs": [],
      "metadata": {
        "id": "BFTzt8ivEOss"
      },
      "id": "BFTzt8ivEOss"
    },
    {
      "cell_type": "code",
      "execution_count": 9,
      "source": [
        "time_step = 100\n",
        "X_train, y_train = create_dataset(train_data, time_step)\n",
        "X_test, ytest = create_dataset(test_data, time_step)"
      ],
      "outputs": [],
      "metadata": {
        "id": "IQ-rxM8uEOst"
      },
      "id": "IQ-rxM8uEOst"
    },
    {
      "cell_type": "code",
      "execution_count": 10,
      "source": [
        "print(X_train.shape), print(y_train.shape)"
      ],
      "outputs": [
        {
          "output_type": "stream",
          "name": "stdout",
          "text": [
            "(265, 100)\n",
            "(265,)\n"
          ]
        },
        {
          "output_type": "execute_result",
          "data": {
            "text/plain": [
              "(None, None)"
            ]
          },
          "metadata": {},
          "execution_count": 10
        }
      ],
      "metadata": {
        "colab": {
          "base_uri": "https://localhost:8080/"
        },
        "id": "jL_df1ByEOst",
        "outputId": "cb455510-e562-4be7-e487-6cabdc2ceb63"
      },
      "id": "jL_df1ByEOst"
    },
    {
      "cell_type": "code",
      "execution_count": 11,
      "source": [
        "print(X_test.shape), print(ytest.shape)"
      ],
      "outputs": [
        {
          "output_type": "stream",
          "name": "stdout",
          "text": [
            "(97, 100)\n",
            "(97,)\n"
          ]
        },
        {
          "output_type": "execute_result",
          "data": {
            "text/plain": [
              "(None, None)"
            ]
          },
          "metadata": {},
          "execution_count": 11
        }
      ],
      "metadata": {
        "colab": {
          "base_uri": "https://localhost:8080/"
        },
        "id": "IsWdPlFEEOsu",
        "outputId": "0689e54e-a8c4-4b80-e2c5-e73d6bcfd8a3"
      },
      "id": "IsWdPlFEEOsu"
    },
    {
      "cell_type": "code",
      "execution_count": 12,
      "source": [
        "X_train =X_train.reshape(X_train.shape[0],X_train.shape[1] , 1)\n",
        "X_test = X_test.reshape(X_test.shape[0],X_test.shape[1] , 1)"
      ],
      "outputs": [],
      "metadata": {
        "id": "zdXuLmq7EOsu"
      },
      "id": "zdXuLmq7EOsu"
    },
    {
      "cell_type": "code",
      "execution_count": 13,
      "source": [
        "from tensorflow.keras.models import Sequential\n",
        "from tensorflow.keras.layers import Dense\n",
        "from tensorflow.keras.layers import LSTM"
      ],
      "outputs": [],
      "metadata": {
        "id": "HozZww6TEOsu"
      },
      "id": "HozZww6TEOsu"
    },
    {
      "cell_type": "code",
      "execution_count": 13,
      "source": [],
      "outputs": [],
      "metadata": {
        "id": "Fbr_VaPpEOsv"
      },
      "id": "Fbr_VaPpEOsv"
    },
    {
      "cell_type": "code",
      "source": [],
      "metadata": {
        "id": "19azSD4tGYlm"
      },
      "id": "19azSD4tGYlm",
      "execution_count": 13,
      "outputs": []
    },
    {
      "cell_type": "code",
      "execution_count": 14,
      "source": [
        "model=Sequential()\n",
        "model.add(LSTM(50,return_sequences=True,input_shape=(100,1)))\n",
        "model.add(LSTM(50,return_sequences=True))\n",
        "model.add(LSTM(50))\n",
        "model.add(Dense(1))\n",
        "model.compile(loss='mean_squared_error',optimizer='adam')"
      ],
      "outputs": [],
      "metadata": {
        "id": "MSYn8rtwEOsv"
      },
      "id": "MSYn8rtwEOsv"
    },
    {
      "cell_type": "code",
      "source": [
        "model.summary()"
      ],
      "metadata": {
        "colab": {
          "base_uri": "https://localhost:8080/"
        },
        "id": "Ky0lKAb-Gadm",
        "outputId": "be512840-9e54-4176-a8d4-8f132fb0e1c2"
      },
      "id": "Ky0lKAb-Gadm",
      "execution_count": 15,
      "outputs": [
        {
          "output_type": "stream",
          "name": "stdout",
          "text": [
            "Model: \"sequential\"\n",
            "_________________________________________________________________\n",
            " Layer (type)                Output Shape              Param #   \n",
            "=================================================================\n",
            " lstm (LSTM)                 (None, 100, 50)           10400     \n",
            "                                                                 \n",
            " lstm_1 (LSTM)               (None, 100, 50)           20200     \n",
            "                                                                 \n",
            " lstm_2 (LSTM)               (None, 50)                20200     \n",
            "                                                                 \n",
            " dense (Dense)               (None, 1)                 51        \n",
            "                                                                 \n",
            "=================================================================\n",
            "Total params: 50,851\n",
            "Trainable params: 50,851\n",
            "Non-trainable params: 0\n",
            "_________________________________________________________________\n"
          ]
        }
      ]
    },
    {
      "cell_type": "code",
      "source": [
        "model.summary()"
      ],
      "metadata": {
        "colab": {
          "base_uri": "https://localhost:8080/"
        },
        "id": "NdYJQj2MGgzY",
        "outputId": "2b509dcf-8386-4f08-fc0a-7c73f1f719b8"
      },
      "id": "NdYJQj2MGgzY",
      "execution_count": 16,
      "outputs": [
        {
          "output_type": "stream",
          "name": "stdout",
          "text": [
            "Model: \"sequential\"\n",
            "_________________________________________________________________\n",
            " Layer (type)                Output Shape              Param #   \n",
            "=================================================================\n",
            " lstm (LSTM)                 (None, 100, 50)           10400     \n",
            "                                                                 \n",
            " lstm_1 (LSTM)               (None, 100, 50)           20200     \n",
            "                                                                 \n",
            " lstm_2 (LSTM)               (None, 50)                20200     \n",
            "                                                                 \n",
            " dense (Dense)               (None, 1)                 51        \n",
            "                                                                 \n",
            "=================================================================\n",
            "Total params: 50,851\n",
            "Trainable params: 50,851\n",
            "Non-trainable params: 0\n",
            "_________________________________________________________________\n"
          ]
        }
      ]
    },
    {
      "cell_type": "code",
      "source": [
        "model.fit(X_train,y_train,validation_data=(X_test,ytest),epochs=100,batch_size=64,verbose=1)"
      ],
      "metadata": {
        "colab": {
          "base_uri": "https://localhost:8080/"
        },
        "id": "QjbF1YbfGo0g",
        "outputId": "8c73fce4-aec4-41b6-b5b2-a83388840e1d"
      },
      "id": "QjbF1YbfGo0g",
      "execution_count": 17,
      "outputs": [
        {
          "output_type": "stream",
          "name": "stdout",
          "text": [
            "Epoch 1/100\n",
            "5/5 [==============================] - 8s 507ms/step - loss: 0.1093 - val_loss: 0.0057\n",
            "Epoch 2/100\n",
            "5/5 [==============================] - 1s 180ms/step - loss: 0.0187 - val_loss: 0.0157\n",
            "Epoch 3/100\n",
            "5/5 [==============================] - 1s 182ms/step - loss: 0.0056 - val_loss: 0.0951\n",
            "Epoch 4/100\n",
            "5/5 [==============================] - 1s 175ms/step - loss: 0.0082 - val_loss: 0.0250\n",
            "Epoch 5/100\n",
            "5/5 [==============================] - 1s 177ms/step - loss: 0.0028 - val_loss: 0.0042\n",
            "Epoch 6/100\n",
            "5/5 [==============================] - 1s 179ms/step - loss: 0.0030 - val_loss: 0.0305\n",
            "Epoch 7/100\n",
            "5/5 [==============================] - 1s 174ms/step - loss: 0.0022 - val_loss: 0.0386\n",
            "Epoch 8/100\n",
            "5/5 [==============================] - 1s 172ms/step - loss: 0.0017 - val_loss: 0.0140\n",
            "Epoch 9/100\n",
            "5/5 [==============================] - 1s 172ms/step - loss: 0.0015 - val_loss: 0.0087\n",
            "Epoch 10/100\n",
            "5/5 [==============================] - 1s 174ms/step - loss: 8.6264e-04 - val_loss: 0.0204\n",
            "Epoch 11/100\n",
            "5/5 [==============================] - 1s 174ms/step - loss: 9.4265e-04 - val_loss: 0.0122\n",
            "Epoch 12/100\n",
            "5/5 [==============================] - 1s 175ms/step - loss: 5.3186e-04 - val_loss: 0.0034\n",
            "Epoch 13/100\n",
            "5/5 [==============================] - 1s 173ms/step - loss: 4.0767e-04 - val_loss: 0.0082\n",
            "Epoch 14/100\n",
            "5/5 [==============================] - 1s 177ms/step - loss: 2.5446e-04 - val_loss: 0.0042\n",
            "Epoch 15/100\n",
            "5/5 [==============================] - 1s 171ms/step - loss: 1.2295e-04 - val_loss: 0.0018\n",
            "Epoch 16/100\n",
            "5/5 [==============================] - 1s 178ms/step - loss: 6.4210e-05 - val_loss: 0.0030\n",
            "Epoch 17/100\n",
            "5/5 [==============================] - 1s 173ms/step - loss: 4.8441e-05 - val_loss: 0.0012\n",
            "Epoch 18/100\n",
            "5/5 [==============================] - 1s 174ms/step - loss: 3.1209e-05 - val_loss: 9.9776e-04\n",
            "Epoch 19/100\n",
            "5/5 [==============================] - 1s 174ms/step - loss: 1.7663e-05 - val_loss: 0.0012\n",
            "Epoch 20/100\n",
            "5/5 [==============================] - 1s 174ms/step - loss: 1.7081e-05 - val_loss: 6.8385e-04\n",
            "Epoch 21/100\n",
            "5/5 [==============================] - 1s 168ms/step - loss: 1.5325e-05 - val_loss: 9.0276e-04\n",
            "Epoch 22/100\n",
            "5/5 [==============================] - 1s 167ms/step - loss: 1.4943e-05 - val_loss: 7.7552e-04\n",
            "Epoch 23/100\n",
            "5/5 [==============================] - 1s 176ms/step - loss: 1.4013e-05 - val_loss: 8.8720e-04\n",
            "Epoch 24/100\n",
            "5/5 [==============================] - 1s 174ms/step - loss: 1.3436e-05 - val_loss: 9.7031e-04\n",
            "Epoch 25/100\n",
            "5/5 [==============================] - 1s 179ms/step - loss: 1.4157e-05 - val_loss: 9.8555e-04\n",
            "Epoch 26/100\n",
            "5/5 [==============================] - 1s 177ms/step - loss: 1.3183e-05 - val_loss: 9.5864e-04\n",
            "Epoch 27/100\n",
            "5/5 [==============================] - 1s 174ms/step - loss: 1.2539e-05 - val_loss: 0.0012\n",
            "Epoch 28/100\n",
            "5/5 [==============================] - 1s 177ms/step - loss: 1.3146e-05 - val_loss: 0.0010\n",
            "Epoch 29/100\n",
            "5/5 [==============================] - 1s 171ms/step - loss: 1.3351e-05 - val_loss: 0.0012\n",
            "Epoch 30/100\n",
            "5/5 [==============================] - 1s 177ms/step - loss: 1.4179e-05 - val_loss: 0.0011\n",
            "Epoch 31/100\n",
            "5/5 [==============================] - 1s 177ms/step - loss: 1.5085e-05 - val_loss: 0.0011\n",
            "Epoch 32/100\n",
            "5/5 [==============================] - 1s 177ms/step - loss: 1.3210e-05 - val_loss: 0.0012\n",
            "Epoch 33/100\n",
            "5/5 [==============================] - 1s 173ms/step - loss: 1.2445e-05 - val_loss: 0.0011\n",
            "Epoch 34/100\n",
            "5/5 [==============================] - 1s 176ms/step - loss: 1.2475e-05 - val_loss: 0.0012\n",
            "Epoch 35/100\n",
            "5/5 [==============================] - 1s 173ms/step - loss: 1.2784e-05 - val_loss: 0.0011\n",
            "Epoch 36/100\n",
            "5/5 [==============================] - 1s 176ms/step - loss: 1.2492e-05 - val_loss: 0.0012\n",
            "Epoch 37/100\n",
            "5/5 [==============================] - 1s 265ms/step - loss: 1.2599e-05 - val_loss: 0.0011\n",
            "Epoch 38/100\n",
            "5/5 [==============================] - 1s 283ms/step - loss: 1.2233e-05 - val_loss: 0.0012\n",
            "Epoch 39/100\n",
            "5/5 [==============================] - 1s 280ms/step - loss: 1.2952e-05 - val_loss: 0.0011\n",
            "Epoch 40/100\n",
            "5/5 [==============================] - 1s 176ms/step - loss: 1.2302e-05 - val_loss: 0.0012\n",
            "Epoch 41/100\n",
            "5/5 [==============================] - 1s 175ms/step - loss: 1.2208e-05 - val_loss: 0.0012\n",
            "Epoch 42/100\n",
            "5/5 [==============================] - 1s 181ms/step - loss: 1.2439e-05 - val_loss: 0.0012\n",
            "Epoch 43/100\n",
            "5/5 [==============================] - 1s 174ms/step - loss: 1.2182e-05 - val_loss: 0.0012\n",
            "Epoch 44/100\n",
            "5/5 [==============================] - 1s 173ms/step - loss: 1.2048e-05 - val_loss: 0.0013\n",
            "Epoch 45/100\n",
            "5/5 [==============================] - 1s 178ms/step - loss: 1.2293e-05 - val_loss: 0.0012\n",
            "Epoch 46/100\n",
            "5/5 [==============================] - 1s 177ms/step - loss: 1.2079e-05 - val_loss: 0.0012\n",
            "Epoch 47/100\n",
            "5/5 [==============================] - 1s 178ms/step - loss: 1.2085e-05 - val_loss: 0.0012\n",
            "Epoch 48/100\n",
            "5/5 [==============================] - 1s 175ms/step - loss: 1.2475e-05 - val_loss: 0.0011\n",
            "Epoch 49/100\n",
            "5/5 [==============================] - 1s 176ms/step - loss: 1.2740e-05 - val_loss: 0.0012\n",
            "Epoch 50/100\n",
            "5/5 [==============================] - 1s 181ms/step - loss: 1.2560e-05 - val_loss: 0.0013\n",
            "Epoch 51/100\n",
            "5/5 [==============================] - 1s 172ms/step - loss: 1.1943e-05 - val_loss: 0.0013\n",
            "Epoch 52/100\n",
            "5/5 [==============================] - 1s 174ms/step - loss: 1.1879e-05 - val_loss: 0.0013\n",
            "Epoch 53/100\n",
            "5/5 [==============================] - 1s 175ms/step - loss: 1.1930e-05 - val_loss: 0.0013\n",
            "Epoch 54/100\n",
            "5/5 [==============================] - 1s 175ms/step - loss: 1.1739e-05 - val_loss: 0.0013\n",
            "Epoch 55/100\n",
            "5/5 [==============================] - 1s 191ms/step - loss: 1.1795e-05 - val_loss: 0.0013\n",
            "Epoch 56/100\n",
            "5/5 [==============================] - 1s 171ms/step - loss: 1.1713e-05 - val_loss: 0.0014\n",
            "Epoch 57/100\n",
            "5/5 [==============================] - 1s 176ms/step - loss: 1.2134e-05 - val_loss: 0.0014\n",
            "Epoch 58/100\n",
            "5/5 [==============================] - 1s 176ms/step - loss: 1.2144e-05 - val_loss: 0.0013\n",
            "Epoch 59/100\n",
            "5/5 [==============================] - 1s 177ms/step - loss: 1.1963e-05 - val_loss: 0.0013\n",
            "Epoch 60/100\n",
            "5/5 [==============================] - 1s 180ms/step - loss: 1.1594e-05 - val_loss: 0.0014\n",
            "Epoch 61/100\n",
            "5/5 [==============================] - 1s 173ms/step - loss: 1.1670e-05 - val_loss: 0.0013\n",
            "Epoch 62/100\n",
            "5/5 [==============================] - 1s 183ms/step - loss: 1.2230e-05 - val_loss: 0.0015\n",
            "Epoch 63/100\n",
            "5/5 [==============================] - 1s 178ms/step - loss: 1.2130e-05 - val_loss: 0.0013\n",
            "Epoch 64/100\n",
            "5/5 [==============================] - 1s 174ms/step - loss: 1.1600e-05 - val_loss: 0.0013\n",
            "Epoch 65/100\n",
            "5/5 [==============================] - 1s 176ms/step - loss: 1.1595e-05 - val_loss: 0.0013\n",
            "Epoch 66/100\n",
            "5/5 [==============================] - 1s 176ms/step - loss: 1.1745e-05 - val_loss: 0.0013\n",
            "Epoch 67/100\n",
            "5/5 [==============================] - 1s 176ms/step - loss: 1.1511e-05 - val_loss: 0.0015\n",
            "Epoch 68/100\n",
            "5/5 [==============================] - 1s 175ms/step - loss: 1.3746e-05 - val_loss: 0.0013\n",
            "Epoch 69/100\n",
            "5/5 [==============================] - 1s 178ms/step - loss: 1.1492e-05 - val_loss: 0.0015\n",
            "Epoch 70/100\n",
            "5/5 [==============================] - 1s 179ms/step - loss: 1.1361e-05 - val_loss: 0.0014\n",
            "Epoch 71/100\n",
            "5/5 [==============================] - 1s 174ms/step - loss: 1.1394e-05 - val_loss: 0.0015\n",
            "Epoch 72/100\n",
            "5/5 [==============================] - 1s 173ms/step - loss: 1.1299e-05 - val_loss: 0.0015\n",
            "Epoch 73/100\n",
            "5/5 [==============================] - 1s 174ms/step - loss: 1.1297e-05 - val_loss: 0.0015\n",
            "Epoch 74/100\n",
            "5/5 [==============================] - 1s 184ms/step - loss: 1.1336e-05 - val_loss: 0.0014\n",
            "Epoch 75/100\n",
            "5/5 [==============================] - 1s 182ms/step - loss: 1.1360e-05 - val_loss: 0.0016\n",
            "Epoch 76/100\n",
            "5/5 [==============================] - 1s 176ms/step - loss: 1.1566e-05 - val_loss: 0.0014\n",
            "Epoch 77/100\n",
            "5/5 [==============================] - 1s 179ms/step - loss: 1.1560e-05 - val_loss: 0.0017\n",
            "Epoch 78/100\n",
            "5/5 [==============================] - 1s 173ms/step - loss: 1.2533e-05 - val_loss: 0.0013\n",
            "Epoch 79/100\n",
            "5/5 [==============================] - 1s 180ms/step - loss: 1.2810e-05 - val_loss: 0.0016\n",
            "Epoch 80/100\n",
            "5/5 [==============================] - 1s 174ms/step - loss: 1.2415e-05 - val_loss: 0.0016\n",
            "Epoch 81/100\n",
            "5/5 [==============================] - 1s 180ms/step - loss: 1.3271e-05 - val_loss: 0.0014\n",
            "Epoch 82/100\n",
            "5/5 [==============================] - 1s 176ms/step - loss: 1.1559e-05 - val_loss: 0.0017\n",
            "Epoch 83/100\n",
            "5/5 [==============================] - 1s 177ms/step - loss: 1.1900e-05 - val_loss: 0.0015\n",
            "Epoch 84/100\n",
            "5/5 [==============================] - 1s 175ms/step - loss: 1.0728e-05 - val_loss: 0.0017\n",
            "Epoch 85/100\n",
            "5/5 [==============================] - 1s 178ms/step - loss: 1.1791e-05 - val_loss: 0.0016\n",
            "Epoch 86/100\n",
            "5/5 [==============================] - 1s 183ms/step - loss: 1.1314e-05 - val_loss: 0.0016\n",
            "Epoch 87/100\n",
            "5/5 [==============================] - 1s 172ms/step - loss: 1.1078e-05 - val_loss: 0.0015\n",
            "Epoch 88/100\n",
            "5/5 [==============================] - 1s 175ms/step - loss: 1.1029e-05 - val_loss: 0.0017\n",
            "Epoch 89/100\n",
            "5/5 [==============================] - 1s 174ms/step - loss: 1.0894e-05 - val_loss: 0.0018\n",
            "Epoch 90/100\n",
            "5/5 [==============================] - 1s 174ms/step - loss: 1.1886e-05 - val_loss: 0.0016\n",
            "Epoch 91/100\n",
            "5/5 [==============================] - 1s 176ms/step - loss: 1.1242e-05 - val_loss: 0.0019\n",
            "Epoch 92/100\n",
            "5/5 [==============================] - 1s 178ms/step - loss: 1.2358e-05 - val_loss: 0.0015\n",
            "Epoch 93/100\n",
            "5/5 [==============================] - 1s 177ms/step - loss: 1.2185e-05 - val_loss: 0.0018\n",
            "Epoch 94/100\n",
            "5/5 [==============================] - 1s 172ms/step - loss: 1.1350e-05 - val_loss: 0.0017\n",
            "Epoch 95/100\n",
            "5/5 [==============================] - 1s 173ms/step - loss: 1.1844e-05 - val_loss: 0.0017\n",
            "Epoch 96/100\n",
            "5/5 [==============================] - 1s 175ms/step - loss: 1.0838e-05 - val_loss: 0.0016\n",
            "Epoch 97/100\n",
            "5/5 [==============================] - 1s 177ms/step - loss: 1.0955e-05 - val_loss: 0.0016\n",
            "Epoch 98/100\n",
            "5/5 [==============================] - 1s 181ms/step - loss: 1.1012e-05 - val_loss: 0.0017\n",
            "Epoch 99/100\n",
            "5/5 [==============================] - 1s 178ms/step - loss: 1.0827e-05 - val_loss: 0.0016\n",
            "Epoch 100/100\n",
            "5/5 [==============================] - 1s 179ms/step - loss: 1.1297e-05 - val_loss: 0.0019\n"
          ]
        },
        {
          "output_type": "execute_result",
          "data": {
            "text/plain": [
              "<keras.callbacks.History at 0x7f916b621670>"
            ]
          },
          "metadata": {},
          "execution_count": 17
        }
      ]
    },
    {
      "cell_type": "code",
      "source": [
        "import tensorflow as tf"
      ],
      "metadata": {
        "id": "nxwn-cpAGsTs"
      },
      "id": "nxwn-cpAGsTs",
      "execution_count": 18,
      "outputs": []
    },
    {
      "cell_type": "code",
      "source": [
        "tf.__version__\n"
      ],
      "metadata": {
        "colab": {
          "base_uri": "https://localhost:8080/",
          "height": 35
        },
        "id": "PBoRgMENHTIY",
        "outputId": "57eee256-4818-470d-b252-97eed8bc5d69"
      },
      "id": "PBoRgMENHTIY",
      "execution_count": 19,
      "outputs": [
        {
          "output_type": "execute_result",
          "data": {
            "text/plain": [
              "'2.9.2'"
            ],
            "application/vnd.google.colaboratory.intrinsic+json": {
              "type": "string"
            }
          },
          "metadata": {},
          "execution_count": 19
        }
      ]
    },
    {
      "cell_type": "code",
      "source": [
        "train_predict=model.predict(X_train)\n",
        "test_predict=model.predict(X_test)"
      ],
      "metadata": {
        "colab": {
          "base_uri": "https://localhost:8080/"
        },
        "id": "-_B0eYZiHexi",
        "outputId": "9866676b-9420-494f-b46a-20004680c20d"
      },
      "id": "-_B0eYZiHexi",
      "execution_count": 20,
      "outputs": [
        {
          "output_type": "stream",
          "name": "stdout",
          "text": [
            "9/9 [==============================] - 1s 31ms/step\n",
            "4/4 [==============================] - 0s 30ms/step\n"
          ]
        }
      ]
    },
    {
      "cell_type": "code",
      "source": [
        "train_predict=scaler.inverse_transform(train_predict)\n",
        "test_predict=scaler.inverse_transform(test_predict)"
      ],
      "metadata": {
        "id": "SgwuS7a9HpSm"
      },
      "id": "SgwuS7a9HpSm",
      "execution_count": 21,
      "outputs": []
    },
    {
      "cell_type": "code",
      "source": [
        "### Calculate RMSE performance metrics\n",
        "import math\n",
        "from sklearn.metrics import mean_squared_error\n",
        "math.sqrt(mean_squared_error(y_train,train_predict))"
      ],
      "metadata": {
        "colab": {
          "base_uri": "https://localhost:8080/"
        },
        "id": "qBFGIMeNHqDL",
        "outputId": "a6bc1dfe-fb90-4bfa-b08c-ee86734e683b"
      },
      "id": "qBFGIMeNHqDL",
      "execution_count": 22,
      "outputs": [
        {
          "output_type": "execute_result",
          "data": {
            "text/plain": [
              "155.04620863625456"
            ]
          },
          "metadata": {},
          "execution_count": 22
        }
      ]
    },
    {
      "cell_type": "code",
      "source": [
        "### Test Data RMSE\n",
        "math.sqrt(mean_squared_error(ytest,test_predict))"
      ],
      "metadata": {
        "colab": {
          "base_uri": "https://localhost:8080/"
        },
        "id": "pelFs8cQHyVX",
        "outputId": "d4b0e21b-0b2a-4e38-fc35-e552e658f085"
      },
      "id": "pelFs8cQHyVX",
      "execution_count": 23,
      "outputs": [
        {
          "output_type": "execute_result",
          "data": {
            "text/plain": [
              "244.80072685642656"
            ]
          },
          "metadata": {},
          "execution_count": 23
        }
      ]
    },
    {
      "cell_type": "code",
      "source": [
        "### Plotting \n",
        "# shift train predictions for plotting\n",
        "look_back=100\n",
        "trainPredictPlot = numpy.empty_like(df)\n",
        "trainPredictPlot[:, :] = np.nan\n",
        "trainPredictPlot[look_back:len(train_predict)+look_back, :] = train_predict\n",
        "# shift test predictions for plotting\n",
        "testPredictPlot = numpy.empty_like(df)\n",
        "testPredictPlot[:, :] = numpy.nan\n",
        "testPredictPlot[len(train_predict)+(look_back*2)+1:len(df)-1, :] = test_predict\n",
        "# plot baseline and predictions\n",
        "plt.plot(scaler.inverse_transform(df))\n",
        "plt.plot(trainPredictPlot)\n",
        "plt.plot(testPredictPlot)\n",
        "plt.show()"
      ],
      "metadata": {
        "colab": {
          "base_uri": "https://localhost:8080/",
          "height": 265
        },
        "id": "whZzVJsfH4CW",
        "outputId": "05a31859-cdff-4d6b-944f-76625a1b52a9"
      },
      "id": "whZzVJsfH4CW",
      "execution_count": 24,
      "outputs": [
        {
          "output_type": "display_data",
          "data": {
            "text/plain": [
              "<Figure size 432x288 with 1 Axes>"
            ],
            "image/png": "[encoded data removed]"
          },
          "metadata": {
            "needs_background": "light"
          }
        }
      ]
    },
    {
      "cell_type": "code",
      "source": [
        "len(test_data)"
      ],
      "metadata": {
        "colab": {
          "base_uri": "https://localhost:8080/"
        },
        "id": "Hsyv3fY48bw-",
        "outputId": "2a4ffa37-26e0-437f-fa3b-660b2125c99c"
      },
      "id": "Hsyv3fY48bw-",
      "execution_count": 39,
      "outputs": [
        {
          "output_type": "execute_result",
          "data": {
            "text/plain": [
              "198"
            ]
          },
          "metadata": {},
          "execution_count": 39
        }
      ]
    },
    {
      "cell_type": "code",
      "source": [
        "x_input=test_data[98:].reshape(1,-1)\n",
        "x_input.shape"
      ],
      "metadata": {
        "colab": {
          "base_uri": "https://localhost:8080/"
        },
        "id": "3fDgKeS-H4qN",
        "outputId": "9ad25240-9e69-459b-c6de-500934bcb13d"
      },
      "id": "3fDgKeS-H4qN",
      "execution_count": 65,
      "outputs": [
        {
          "output_type": "execute_result",
          "data": {
            "text/plain": [
              "(1, 100)"
            ]
          },
          "metadata": {},
          "execution_count": 65
        }
      ]
    },
    {
      "cell_type": "code",
      "source": [
        "temp_input=list(x_input)\n",
        "temp_input=temp_input[0].tolist()"
      ],
      "metadata": {
        "id": "2xaMU-Ez8OZ6"
      },
      "id": "2xaMU-Ez8OZ6",
      "execution_count": 66,
      "outputs": []
    },
    {
      "cell_type": "code",
      "source": [
        "len(temp_input)"
      ],
      "metadata": {
        "colab": {
          "base_uri": "https://localhost:8080/"
        },
        "id": "FDivFfcUGNzm",
        "outputId": "f16be941-4193-4ce1-9c32-7608044ce46d"
      },
      "id": "FDivFfcUGNzm",
      "execution_count": 71,
      "outputs": [
        {
          "output_type": "execute_result",
          "data": {
            "text/plain": [
              "101"
            ]
          },
          "metadata": {},
          "execution_count": 71
        }
      ]
    },
    {
      "cell_type": "code",
      "source": [
        "x_input"
      ],
      "metadata": {
        "colab": {
          "base_uri": "https://localhost:8080/"
        },
        "id": "SJw6k4l_8UM1",
        "outputId": "ab6b17dd-41dd-4045-bfeb-5cd5b836748d"
      },
      "id": "SJw6k4l_8UM1",
      "execution_count": 67,
      "outputs": [
        {
          "output_type": "execute_result",
          "data": {
            "text/plain": [
              "array([[0.78798315, 0.78962315, 0.78997272, 0.78892399, 0.79050788,\n",
              "        0.79356345, 0.79718007, 0.79975227, 0.80199648, 0.8025489 ,\n",
              "        0.8024669 , 0.80314879, 0.80550089, 0.80796951, 0.80725741,\n",
              "        0.80521605, 0.80725741, 0.81086108, 0.81510781, 0.8182799 ,\n",
              "        0.81964801, 0.82066221, 0.82101611, 0.821944  , 0.82499957,\n",
              "        0.82770124, 0.82808966, 0.82681219, 0.83004471, 0.83501649,\n",
              "        0.83794258, 0.84067879, 0.84306109, 0.84414004, 0.84392425,\n",
              "        0.84622887, 0.84818392, 0.8502857 , 0.85032455, 0.84992318,\n",
              "        0.85401885, 0.85859357, 0.85922799, 0.86074715, 0.86158009,\n",
              "        0.86235262, 0.86201599, 0.86427745, 0.86635334, 0.86936144,\n",
              "        0.86873133, 0.86901618, 0.87367721, 0.87861878, 0.88218793,\n",
              "        0.88397897, 0.88589518, 0.88687918, 0.88761286, 0.88823865,\n",
              "        0.89003832, 0.89277453, 0.89295579, 0.89286084, 0.89734493,\n",
              "        0.90162618, 0.90474218, 0.9068828 , 0.90799627, 0.91052963,\n",
              "        0.91220847, 0.91481088, 0.91633435, 0.91865192, 0.9188634 ,\n",
              "        0.91811677, 0.92273033, 0.92818547, 0.92837537, 0.92309717,\n",
              "        0.9218456 , 0.92401643, 0.93006284, 0.93460735, 0.93589345,\n",
              "        0.93707597, 0.93770176, 0.93663577, 0.93891881, 0.94297996,\n",
              "        0.9473691 , 0.95710118, 0.96540905, 0.97544323, 0.97944827,\n",
              "        0.98100627, 0.98263331, 0.99011256, 0.99501959, 1.        ]])"
            ]
          },
          "metadata": {},
          "execution_count": 67
        }
      ]
    },
    {
      "cell_type": "code",
      "source": [
        "from numpy import array\n",
        "\n",
        "lst_output=[]\n",
        "n_steps=100\n",
        "i=0\n",
        "while(i<30):\n",
        "    \n",
        "    if(len(temp_input)>100):\n",
        "        #print(temp_input)\n",
        "        x_input=np.array(temp_input[1:])\n",
        "        print(\"{} day input {}\".format(i,x_input))\n",
        "        x_input=x_input.reshape(1,-1)\n",
        "        x_input = x_input.reshape((1, n_steps, 1))\n",
        "        #print(x_input)\n",
        "        yhat = model.predict(x_input, verbose=0)\n",
        "        print(\"{} day output {}\".format(i,yhat))\n",
        "        temp_input.extend(yhat[0].tolist())\n",
        "        temp_input=temp_input[1:]\n",
        "        #print(temp_input)\n",
        "        lst_output.extend(yhat.tolist())\n",
        "        i=i+1\n",
        "    else:\n",
        "        x_input = x_input.reshape((1, n_steps,1))\n",
        "        yhat = model.predict(x_input, verbose=0)\n",
        "        print(yhat[0])\n",
        "        temp_input.extend(yhat[0].tolist())\n",
        "        print(len(temp_input))\n",
        "        lst_output.extend(yhat.tolist())\n",
        "        i=i+1\n",
        "    \n",
        "\n",
        "print(lst_output)"
      ],
      "metadata": {
        "colab": {
          "base_uri": "https://localhost:8080/"
        },
        "id": "f8Cevo7rITO9",
        "outputId": "10a6bee8-825a-45ed-8167-f8fc1b2c2c17"
      },
      "id": "f8Cevo7rITO9",
      "execution_count": 70,
      "outputs": [
        {
          "output_type": "stream",
          "name": "stdout",
          "text": [
            "0 day input [0.78962315 0.78997272 0.78892399 0.79050788 0.79356345 0.79718007\n",
            " 0.79975227 0.80199648 0.8025489  0.8024669  0.80314879 0.80550089\n",
            " 0.80796951 0.80725741 0.80521605 0.80725741 0.81086108 0.81510781\n",
            " 0.8182799  0.81964801 0.82066221 0.82101611 0.821944   0.82499957\n",
            " 0.82770124 0.82808966 0.82681219 0.83004471 0.83501649 0.83794258\n",
            " 0.84067879 0.84306109 0.84414004 0.84392425 0.84622887 0.84818392\n",
            " 0.8502857  0.85032455 0.84992318 0.85401885 0.85859357 0.85922799\n",
            " 0.86074715 0.86158009 0.86235262 0.86201599 0.86427745 0.86635334\n",
            " 0.86936144 0.86873133 0.86901618 0.87367721 0.87861878 0.88218793\n",
            " 0.88397897 0.88589518 0.88687918 0.88761286 0.88823865 0.89003832\n",
            " 0.89277453 0.89295579 0.89286084 0.89734493 0.90162618 0.90474218\n",
            " 0.9068828  0.90799627 0.91052963 0.91220847 0.91481088 0.91633435\n",
            " 0.91865192 0.9188634  0.91811677 0.92273033 0.92818547 0.92837537\n",
            " 0.92309717 0.9218456  0.92401643 0.93006284 0.93460735 0.93589345\n",
            " 0.93707597 0.93770176 0.93663577 0.93891881 0.94297996 0.9473691\n",
            " 0.95710118 0.96540905 0.97544323 0.97944827 0.98100627 0.98263331\n",
            " 0.99011256 0.99501959 1.         0.91238904]\n",
            "0 day output [[0.9146674]]\n",
            "1 day input [0.78997272 0.78892399 0.79050788 0.79356345 0.79718007 0.79975227\n",
            " 0.80199648 0.8025489  0.8024669  0.80314879 0.80550089 0.80796951\n",
            " 0.80725741 0.80521605 0.80725741 0.81086108 0.81510781 0.8182799\n",
            " 0.81964801 0.82066221 0.82101611 0.821944   0.82499957 0.82770124\n",
            " 0.82808966 0.82681219 0.83004471 0.83501649 0.83794258 0.84067879\n",
            " 0.84306109 0.84414004 0.84392425 0.84622887 0.84818392 0.8502857\n",
            " 0.85032455 0.84992318 0.85401885 0.85859357 0.85922799 0.86074715\n",
            " 0.86158009 0.86235262 0.86201599 0.86427745 0.86635334 0.86936144\n",
            " 0.86873133 0.86901618 0.87367721 0.87861878 0.88218793 0.88397897\n",
            " 0.88589518 0.88687918 0.88761286 0.88823865 0.89003832 0.89277453\n",
            " 0.89295579 0.89286084 0.89734493 0.90162618 0.90474218 0.9068828\n",
            " 0.90799627 0.91052963 0.91220847 0.91481088 0.91633435 0.91865192\n",
            " 0.9188634  0.91811677 0.92273033 0.92818547 0.92837537 0.92309717\n",
            " 0.9218456  0.92401643 0.93006284 0.93460735 0.93589345 0.93707597\n",
            " 0.93770176 0.93663577 0.93891881 0.94297996 0.9473691  0.95710118\n",
            " 0.96540905 0.97544323 0.97944827 0.98100627 0.98263331 0.99011256\n",
            " 0.99501959 1.         0.91238904 0.91466743]\n",
            "1 day output [[0.9161349]]\n",
            "2 day input [0.78892399 0.79050788 0.79356345 0.79718007 0.79975227 0.80199648\n",
            " 0.8025489  0.8024669  0.80314879 0.80550089 0.80796951 0.80725741\n",
            " 0.80521605 0.80725741 0.81086108 0.81510781 0.8182799  0.81964801\n",
            " 0.82066221 0.82101611 0.821944   0.82499957 0.82770124 0.82808966\n",
            " 0.82681219 0.83004471 0.83501649 0.83794258 0.84067879 0.84306109\n",
            " 0.84414004 0.84392425 0.84622887 0.84818392 0.8502857  0.85032455\n",
            " 0.84992318 0.85401885 0.85859357 0.85922799 0.86074715 0.86158009\n",
            " 0.86235262 0.86201599 0.86427745 0.86635334 0.86936144 0.86873133\n",
            " 0.86901618 0.87367721 0.87861878 0.88218793 0.88397897 0.88589518\n",
            " 0.88687918 0.88761286 0.88823865 0.89003832 0.89277453 0.89295579\n",
            " 0.89286084 0.89734493 0.90162618 0.90474218 0.9068828  0.90799627\n",
            " 0.91052963 0.91220847 0.91481088 0.91633435 0.91865192 0.9188634\n",
            " 0.91811677 0.92273033 0.92818547 0.92837537 0.92309717 0.9218456\n",
            " 0.92401643 0.93006284 0.93460735 0.93589345 0.93707597 0.93770176\n",
            " 0.93663577 0.93891881 0.94297996 0.9473691  0.95710118 0.96540905\n",
            " 0.97544323 0.97944827 0.98100627 0.98263331 0.99011256 0.99501959\n",
            " 1.         0.91238904 0.91466743 0.91613489]\n",
            "2 day output [[0.91676265]]\n",
            "3 day input [0.79050788 0.79356345 0.79718007 0.79975227 0.80199648 0.8025489\n",
            " 0.8024669  0.80314879 0.80550089 0.80796951 0.80725741 0.80521605\n",
            " 0.80725741 0.81086108 0.81510781 0.8182799  0.81964801 0.82066221\n",
            " 0.82101611 0.821944   0.82499957 0.82770124 0.82808966 0.82681219\n",
            " 0.83004471 0.83501649 0.83794258 0.84067879 0.84306109 0.84414004\n",
            " 0.84392425 0.84622887 0.84818392 0.8502857  0.85032455 0.84992318\n",
            " 0.85401885 0.85859357 0.85922799 0.86074715 0.86158009 0.86235262\n",
            " 0.86201599 0.86427745 0.86635334 0.86936144 0.86873133 0.86901618\n",
            " 0.87367721 0.87861878 0.88218793 0.88397897 0.88589518 0.88687918\n",
            " 0.88761286 0.88823865 0.89003832 0.89277453 0.89295579 0.89286084\n",
            " 0.89734493 0.90162618 0.90474218 0.9068828  0.90799627 0.91052963\n",
            " 0.91220847 0.91481088 0.91633435 0.91865192 0.9188634  0.91811677\n",
            " 0.92273033 0.92818547 0.92837537 0.92309717 0.9218456  0.92401643\n",
            " 0.93006284 0.93460735 0.93589345 0.93707597 0.93770176 0.93663577\n",
            " 0.93891881 0.94297996 0.9473691  0.95710118 0.96540905 0.97544323\n",
            " 0.97944827 0.98100627 0.98263331 0.99011256 0.99501959 1.\n",
            " 0.91238904 0.91466743 0.91613489 0.91676265]\n",
            "3 day output [[0.9166296]]\n",
            "4 day input [0.79356345 0.79718007 0.79975227 0.80199648 0.8025489  0.8024669\n",
            " 0.80314879 0.80550089 0.80796951 0.80725741 0.80521605 0.80725741\n",
            " 0.81086108 0.81510781 0.8182799  0.81964801 0.82066221 0.82101611\n",
            " 0.821944   0.82499957 0.82770124 0.82808966 0.82681219 0.83004471\n",
            " 0.83501649 0.83794258 0.84067879 0.84306109 0.84414004 0.84392425\n",
            " 0.84622887 0.84818392 0.8502857  0.85032455 0.84992318 0.85401885\n",
            " 0.85859357 0.85922799 0.86074715 0.86158009 0.86235262 0.86201599\n",
            " 0.86427745 0.86635334 0.86936144 0.86873133 0.86901618 0.87367721\n",
            " 0.87861878 0.88218793 0.88397897 0.88589518 0.88687918 0.88761286\n",
            " 0.88823865 0.89003832 0.89277453 0.89295579 0.89286084 0.89734493\n",
            " 0.90162618 0.90474218 0.9068828  0.90799627 0.91052963 0.91220847\n",
            " 0.91481088 0.91633435 0.91865192 0.9188634  0.91811677 0.92273033\n",
            " 0.92818547 0.92837537 0.92309717 0.9218456  0.92401643 0.93006284\n",
            " 0.93460735 0.93589345 0.93707597 0.93770176 0.93663577 0.93891881\n",
            " 0.94297996 0.9473691  0.95710118 0.96540905 0.97544323 0.97944827\n",
            " 0.98100627 0.98263331 0.99011256 0.99501959 1.         0.91238904\n",
            " 0.91466743 0.91613489 0.91676265 0.91662961]\n",
            "4 day output [[0.9158603]]\n",
            "5 day input [0.79718007 0.79975227 0.80199648 0.8025489  0.8024669  0.80314879\n",
            " 0.80550089 0.80796951 0.80725741 0.80521605 0.80725741 0.81086108\n",
            " 0.81510781 0.8182799  0.81964801 0.82066221 0.82101611 0.821944\n",
            " 0.82499957 0.82770124 0.82808966 0.82681219 0.83004471 0.83501649\n",
            " 0.83794258 0.84067879 0.84306109 0.84414004 0.84392425 0.84622887\n",
            " 0.84818392 0.8502857  0.85032455 0.84992318 0.85401885 0.85859357\n",
            " 0.85922799 0.86074715 0.86158009 0.86235262 0.86201599 0.86427745\n",
            " 0.86635334 0.86936144 0.86873133 0.86901618 0.87367721 0.87861878\n",
            " 0.88218793 0.88397897 0.88589518 0.88687918 0.88761286 0.88823865\n",
            " 0.89003832 0.89277453 0.89295579 0.89286084 0.89734493 0.90162618\n",
            " 0.90474218 0.9068828  0.90799627 0.91052963 0.91220847 0.91481088\n",
            " 0.91633435 0.91865192 0.9188634  0.91811677 0.92273033 0.92818547\n",
            " 0.92837537 0.92309717 0.9218456  0.92401643 0.93006284 0.93460735\n",
            " 0.93589345 0.93707597 0.93770176 0.93663577 0.93891881 0.94297996\n",
            " 0.9473691  0.95710118 0.96540905 0.97544323 0.97944827 0.98100627\n",
            " 0.98263331 0.99011256 0.99501959 1.         0.91238904 0.91466743\n",
            " 0.91613489 0.91676265 0.91662961 0.9158603 ]\n",
            "5 day output [[0.9145884]]\n",
            "6 day input [0.79975227 0.80199648 0.8025489  0.8024669  0.80314879 0.80550089\n",
            " 0.80796951 0.80725741 0.80521605 0.80725741 0.81086108 0.81510781\n",
            " 0.8182799  0.81964801 0.82066221 0.82101611 0.821944   0.82499957\n",
            " 0.82770124 0.82808966 0.82681219 0.83004471 0.83501649 0.83794258\n",
            " 0.84067879 0.84306109 0.84414004 0.84392425 0.84622887 0.84818392\n",
            " 0.8502857  0.85032455 0.84992318 0.85401885 0.85859357 0.85922799\n",
            " 0.86074715 0.86158009 0.86235262 0.86201599 0.86427745 0.86635334\n",
            " 0.86936144 0.86873133 0.86901618 0.87367721 0.87861878 0.88218793\n",
            " 0.88397897 0.88589518 0.88687918 0.88761286 0.88823865 0.89003832\n",
            " 0.89277453 0.89295579 0.89286084 0.89734493 0.90162618 0.90474218\n",
            " 0.9068828  0.90799627 0.91052963 0.91220847 0.91481088 0.91633435\n",
            " 0.91865192 0.9188634  0.91811677 0.92273033 0.92818547 0.92837537\n",
            " 0.92309717 0.9218456  0.92401643 0.93006284 0.93460735 0.93589345\n",
            " 0.93707597 0.93770176 0.93663577 0.93891881 0.94297996 0.9473691\n",
            " 0.95710118 0.96540905 0.97544323 0.97944827 0.98100627 0.98263331\n",
            " 0.99011256 0.99501959 1.         0.91238904 0.91466743 0.91613489\n",
            " 0.91676265 0.91662961 0.9158603  0.91458839]\n",
            "6 day output [[0.912939]]\n",
            "7 day input [0.80199648 0.8025489  0.8024669  0.80314879 0.80550089 0.80796951\n",
            " 0.80725741 0.80521605 0.80725741 0.81086108 0.81510781 0.8182799\n",
            " 0.81964801 0.82066221 0.82101611 0.821944   0.82499957 0.82770124\n",
            " 0.82808966 0.82681219 0.83004471 0.83501649 0.83794258 0.84067879\n",
            " 0.84306109 0.84414004 0.84392425 0.84622887 0.84818392 0.8502857\n",
            " 0.85032455 0.84992318 0.85401885 0.85859357 0.85922799 0.86074715\n",
            " 0.86158009 0.86235262 0.86201599 0.86427745 0.86635334 0.86936144\n",
            " 0.86873133 0.86901618 0.87367721 0.87861878 0.88218793 0.88397897\n",
            " 0.88589518 0.88687918 0.88761286 0.88823865 0.89003832 0.89277453\n",
            " 0.89295579 0.89286084 0.89734493 0.90162618 0.90474218 0.9068828\n",
            " 0.90799627 0.91052963 0.91220847 0.91481088 0.91633435 0.91865192\n",
            " 0.9188634  0.91811677 0.92273033 0.92818547 0.92837537 0.92309717\n",
            " 0.9218456  0.92401643 0.93006284 0.93460735 0.93589345 0.93707597\n",
            " 0.93770176 0.93663577 0.93891881 0.94297996 0.9473691  0.95710118\n",
            " 0.96540905 0.97544323 0.97944827 0.98100627 0.98263331 0.99011256\n",
            " 0.99501959 1.         0.91238904 0.91466743 0.91613489 0.91676265\n",
            " 0.91662961 0.9158603  0.91458839 0.91293901]\n",
            "7 day output [[0.9110187]]\n",
            "8 day input [0.8025489  0.8024669  0.80314879 0.80550089 0.80796951 0.80725741\n",
            " 0.80521605 0.80725741 0.81086108 0.81510781 0.8182799  0.81964801\n",
            " 0.82066221 0.82101611 0.821944   0.82499957 0.82770124 0.82808966\n",
            " 0.82681219 0.83004471 0.83501649 0.83794258 0.84067879 0.84306109\n",
            " 0.84414004 0.84392425 0.84622887 0.84818392 0.8502857  0.85032455\n",
            " 0.84992318 0.85401885 0.85859357 0.85922799 0.86074715 0.86158009\n",
            " 0.86235262 0.86201599 0.86427745 0.86635334 0.86936144 0.86873133\n",
            " 0.86901618 0.87367721 0.87861878 0.88218793 0.88397897 0.88589518\n",
            " 0.88687918 0.88761286 0.88823865 0.89003832 0.89277453 0.89295579\n",
            " 0.89286084 0.89734493 0.90162618 0.90474218 0.9068828  0.90799627\n",
            " 0.91052963 0.91220847 0.91481088 0.91633435 0.91865192 0.9188634\n",
            " 0.91811677 0.92273033 0.92818547 0.92837537 0.92309717 0.9218456\n",
            " 0.92401643 0.93006284 0.93460735 0.93589345 0.93707597 0.93770176\n",
            " 0.93663577 0.93891881 0.94297996 0.9473691  0.95710118 0.96540905\n",
            " 0.97544323 0.97944827 0.98100627 0.98263331 0.99011256 0.99501959\n",
            " 1.         0.91238904 0.91466743 0.91613489 0.91676265 0.91662961\n",
            " 0.9158603  0.91458839 0.91293901 0.91101873]\n",
            "8 day output [[0.9089136]]\n",
            "9 day input [0.8024669  0.80314879 0.80550089 0.80796951 0.80725741 0.80521605\n",
            " 0.80725741 0.81086108 0.81510781 0.8182799  0.81964801 0.82066221\n",
            " 0.82101611 0.821944   0.82499957 0.82770124 0.82808966 0.82681219\n",
            " 0.83004471 0.83501649 0.83794258 0.84067879 0.84306109 0.84414004\n",
            " 0.84392425 0.84622887 0.84818392 0.8502857  0.85032455 0.84992318\n",
            " 0.85401885 0.85859357 0.85922799 0.86074715 0.86158009 0.86235262\n",
            " 0.86201599 0.86427745 0.86635334 0.86936144 0.86873133 0.86901618\n",
            " 0.87367721 0.87861878 0.88218793 0.88397897 0.88589518 0.88687918\n",
            " 0.88761286 0.88823865 0.89003832 0.89277453 0.89295579 0.89286084\n",
            " 0.89734493 0.90162618 0.90474218 0.9068828  0.90799627 0.91052963\n",
            " 0.91220847 0.91481088 0.91633435 0.91865192 0.9188634  0.91811677\n",
            " 0.92273033 0.92818547 0.92837537 0.92309717 0.9218456  0.92401643\n",
            " 0.93006284 0.93460735 0.93589345 0.93707597 0.93770176 0.93663577\n",
            " 0.93891881 0.94297996 0.9473691  0.95710118 0.96540905 0.97544323\n",
            " 0.97944827 0.98100627 0.98263331 0.99011256 0.99501959 1.\n",
            " 0.91238904 0.91466743 0.91613489 0.91676265 0.91662961 0.9158603\n",
            " 0.91458839 0.91293901 0.91101873 0.90891361]\n",
            "9 day output [[0.9066913]]\n",
            "10 day input [0.80314879 0.80550089 0.80796951 0.80725741 0.80521605 0.80725741\n",
            " 0.81086108 0.81510781 0.8182799  0.81964801 0.82066221 0.82101611\n",
            " 0.821944   0.82499957 0.82770124 0.82808966 0.82681219 0.83004471\n",
            " 0.83501649 0.83794258 0.84067879 0.84306109 0.84414004 0.84392425\n",
            " 0.84622887 0.84818392 0.8502857  0.85032455 0.84992318 0.85401885\n",
            " 0.85859357 0.85922799 0.86074715 0.86158009 0.86235262 0.86201599\n",
            " 0.86427745 0.86635334 0.86936144 0.86873133 0.86901618 0.87367721\n",
            " 0.87861878 0.88218793 0.88397897 0.88589518 0.88687918 0.88761286\n",
            " 0.88823865 0.89003832 0.89277453 0.89295579 0.89286084 0.89734493\n",
            " 0.90162618 0.90474218 0.9068828  0.90799627 0.91052963 0.91220847\n",
            " 0.91481088 0.91633435 0.91865192 0.9188634  0.91811677 0.92273033\n",
            " 0.92818547 0.92837537 0.92309717 0.9218456  0.92401643 0.93006284\n",
            " 0.93460735 0.93589345 0.93707597 0.93770176 0.93663577 0.93891881\n",
            " 0.94297996 0.9473691  0.95710118 0.96540905 0.97544323 0.97944827\n",
            " 0.98100627 0.98263331 0.99011256 0.99501959 1.         0.91238904\n",
            " 0.91466743 0.91613489 0.91676265 0.91662961 0.9158603  0.91458839\n",
            " 0.91293901 0.91101873 0.90891361 0.90669131]\n",
            "10 day output [[0.90440226]]\n",
            "11 day input [0.80550089 0.80796951 0.80725741 0.80521605 0.80725741 0.81086108\n",
            " 0.81510781 0.8182799  0.81964801 0.82066221 0.82101611 0.821944\n",
            " 0.82499957 0.82770124 0.82808966 0.82681219 0.83004471 0.83501649\n",
            " 0.83794258 0.84067879 0.84306109 0.84414004 0.84392425 0.84622887\n",
            " 0.84818392 0.8502857  0.85032455 0.84992318 0.85401885 0.85859357\n",
            " 0.85922799 0.86074715 0.86158009 0.86235262 0.86201599 0.86427745\n",
            " 0.86635334 0.86936144 0.86873133 0.86901618 0.87367721 0.87861878\n",
            " 0.88218793 0.88397897 0.88589518 0.88687918 0.88761286 0.88823865\n",
            " 0.89003832 0.89277453 0.89295579 0.89286084 0.89734493 0.90162618\n",
            " 0.90474218 0.9068828  0.90799627 0.91052963 0.91220847 0.91481088\n",
            " 0.91633435 0.91865192 0.9188634  0.91811677 0.92273033 0.92818547\n",
            " 0.92837537 0.92309717 0.9218456  0.92401643 0.93006284 0.93460735\n",
            " 0.93589345 0.93707597 0.93770176 0.93663577 0.93891881 0.94297996\n",
            " 0.9473691  0.95710118 0.96540905 0.97544323 0.97944827 0.98100627\n",
            " 0.98263331 0.99011256 0.99501959 1.         0.91238904 0.91466743\n",
            " 0.91613489 0.91676265 0.91662961 0.9158603  0.91458839 0.91293901\n",
            " 0.91101873 0.90891361 0.90669131 0.90440226]\n",
            "11 day output [[0.90208316]]\n",
            "12 day input [0.80796951 0.80725741 0.80521605 0.80725741 0.81086108 0.81510781\n",
            " 0.8182799  0.81964801 0.82066221 0.82101611 0.821944   0.82499957\n",
            " 0.82770124 0.82808966 0.82681219 0.83004471 0.83501649 0.83794258\n",
            " 0.84067879 0.84306109 0.84414004 0.84392425 0.84622887 0.84818392\n",
            " 0.8502857  0.85032455 0.84992318 0.85401885 0.85859357 0.85922799\n",
            " 0.86074715 0.86158009 0.86235262 0.86201599 0.86427745 0.86635334\n",
            " 0.86936144 0.86873133 0.86901618 0.87367721 0.87861878 0.88218793\n",
            " 0.88397897 0.88589518 0.88687918 0.88761286 0.88823865 0.89003832\n",
            " 0.89277453 0.89295579 0.89286084 0.89734493 0.90162618 0.90474218\n",
            " 0.9068828  0.90799627 0.91052963 0.91220847 0.91481088 0.91633435\n",
            " 0.91865192 0.9188634  0.91811677 0.92273033 0.92818547 0.92837537\n",
            " 0.92309717 0.9218456  0.92401643 0.93006284 0.93460735 0.93589345\n",
            " 0.93707597 0.93770176 0.93663577 0.93891881 0.94297996 0.9473691\n",
            " 0.95710118 0.96540905 0.97544323 0.97944827 0.98100627 0.98263331\n",
            " 0.99011256 0.99501959 1.         0.91238904 0.91466743 0.91613489\n",
            " 0.91676265 0.91662961 0.9158603  0.91458839 0.91293901 0.91101873\n",
            " 0.90891361 0.90669131 0.90440226 0.90208316]\n",
            "12 day output [[0.89975953]]\n",
            "13 day input [0.80725741 0.80521605 0.80725741 0.81086108 0.81510781 0.8182799\n",
            " 0.81964801 0.82066221 0.82101611 0.821944   0.82499957 0.82770124\n",
            " 0.82808966 0.82681219 0.83004471 0.83501649 0.83794258 0.84067879\n",
            " 0.84306109 0.84414004 0.84392425 0.84622887 0.84818392 0.8502857\n",
            " 0.85032455 0.84992318 0.85401885 0.85859357 0.85922799 0.86074715\n",
            " 0.86158009 0.86235262 0.86201599 0.86427745 0.86635334 0.86936144\n",
            " 0.86873133 0.86901618 0.87367721 0.87861878 0.88218793 0.88397897\n",
            " 0.88589518 0.88687918 0.88761286 0.88823865 0.89003832 0.89277453\n",
            " 0.89295579 0.89286084 0.89734493 0.90162618 0.90474218 0.9068828\n",
            " 0.90799627 0.91052963 0.91220847 0.91481088 0.91633435 0.91865192\n",
            " 0.9188634  0.91811677 0.92273033 0.92818547 0.92837537 0.92309717\n",
            " 0.9218456  0.92401643 0.93006284 0.93460735 0.93589345 0.93707597\n",
            " 0.93770176 0.93663577 0.93891881 0.94297996 0.9473691  0.95710118\n",
            " 0.96540905 0.97544323 0.97944827 0.98100627 0.98263331 0.99011256\n",
            " 0.99501959 1.         0.91238904 0.91466743 0.91613489 0.91676265\n",
            " 0.91662961 0.9158603  0.91458839 0.91293901 0.91101873 0.90891361\n",
            " 0.90669131 0.90440226 0.90208316 0.89975953]\n",
            "13 day output [[0.8974499]]\n",
            "14 day input [0.80521605 0.80725741 0.81086108 0.81510781 0.8182799  0.81964801\n",
            " 0.82066221 0.82101611 0.821944   0.82499957 0.82770124 0.82808966\n",
            " 0.82681219 0.83004471 0.83501649 0.83794258 0.84067879 0.84306109\n",
            " 0.84414004 0.84392425 0.84622887 0.84818392 0.8502857  0.85032455\n",
            " 0.84992318 0.85401885 0.85859357 0.85922799 0.86074715 0.86158009\n",
            " 0.86235262 0.86201599 0.86427745 0.86635334 0.86936144 0.86873133\n",
            " 0.86901618 0.87367721 0.87861878 0.88218793 0.88397897 0.88589518\n",
            " 0.88687918 0.88761286 0.88823865 0.89003832 0.89277453 0.89295579\n",
            " 0.89286084 0.89734493 0.90162618 0.90474218 0.9068828  0.90799627\n",
            " 0.91052963 0.91220847 0.91481088 0.91633435 0.91865192 0.9188634\n",
            " 0.91811677 0.92273033 0.92818547 0.92837537 0.92309717 0.9218456\n",
            " 0.92401643 0.93006284 0.93460735 0.93589345 0.93707597 0.93770176\n",
            " 0.93663577 0.93891881 0.94297996 0.9473691  0.95710118 0.96540905\n",
            " 0.97544323 0.97944827 0.98100627 0.98263331 0.99011256 0.99501959\n",
            " 1.         0.91238904 0.91466743 0.91613489 0.91676265 0.91662961\n",
            " 0.9158603  0.91458839 0.91293901 0.91101873 0.90891361 0.90669131\n",
            " 0.90440226 0.90208316 0.89975953 0.89744991]\n",
            "14 day output [[0.8951655]]\n",
            "15 day input [0.80725741 0.81086108 0.81510781 0.8182799  0.81964801 0.82066221\n",
            " 0.82101611 0.821944   0.82499957 0.82770124 0.82808966 0.82681219\n",
            " 0.83004471 0.83501649 0.83794258 0.84067879 0.84306109 0.84414004\n",
            " 0.84392425 0.84622887 0.84818392 0.8502857  0.85032455 0.84992318\n",
            " 0.85401885 0.85859357 0.85922799 0.86074715 0.86158009 0.86235262\n",
            " 0.86201599 0.86427745 0.86635334 0.86936144 0.86873133 0.86901618\n",
            " 0.87367721 0.87861878 0.88218793 0.88397897 0.88589518 0.88687918\n",
            " 0.88761286 0.88823865 0.89003832 0.89277453 0.89295579 0.89286084\n",
            " 0.89734493 0.90162618 0.90474218 0.9068828  0.90799627 0.91052963\n",
            " 0.91220847 0.91481088 0.91633435 0.91865192 0.9188634  0.91811677\n",
            " 0.92273033 0.92818547 0.92837537 0.92309717 0.9218456  0.92401643\n",
            " 0.93006284 0.93460735 0.93589345 0.93707597 0.93770176 0.93663577\n",
            " 0.93891881 0.94297996 0.9473691  0.95710118 0.96540905 0.97544323\n",
            " 0.97944827 0.98100627 0.98263331 0.99011256 0.99501959 1.\n",
            " 0.91238904 0.91466743 0.91613489 0.91676265 0.91662961 0.9158603\n",
            " 0.91458839 0.91293901 0.91101873 0.90891361 0.90669131 0.90440226\n",
            " 0.90208316 0.89975953 0.89744991 0.8951655 ]\n",
            "15 day output [[0.8929131]]\n",
            "16 day input [0.81086108 0.81510781 0.8182799  0.81964801 0.82066221 0.82101611\n",
            " 0.821944   0.82499957 0.82770124 0.82808966 0.82681219 0.83004471\n",
            " 0.83501649 0.83794258 0.84067879 0.84306109 0.84414004 0.84392425\n",
            " 0.84622887 0.84818392 0.8502857  0.85032455 0.84992318 0.85401885\n",
            " 0.85859357 0.85922799 0.86074715 0.86158009 0.86235262 0.86201599\n",
            " 0.86427745 0.86635334 0.86936144 0.86873133 0.86901618 0.87367721\n",
            " 0.87861878 0.88218793 0.88397897 0.88589518 0.88687918 0.88761286\n",
            " 0.88823865 0.89003832 0.89277453 0.89295579 0.89286084 0.89734493\n",
            " 0.90162618 0.90474218 0.9068828  0.90799627 0.91052963 0.91220847\n",
            " 0.91481088 0.91633435 0.91865192 0.9188634  0.91811677 0.92273033\n",
            " 0.92818547 0.92837537 0.92309717 0.9218456  0.92401643 0.93006284\n",
            " 0.93460735 0.93589345 0.93707597 0.93770176 0.93663577 0.93891881\n",
            " 0.94297996 0.9473691  0.95710118 0.96540905 0.97544323 0.97944827\n",
            " 0.98100627 0.98263331 0.99011256 0.99501959 1.         0.91238904\n",
            " 0.91466743 0.91613489 0.91676265 0.91662961 0.9158603  0.91458839\n",
            " 0.91293901 0.91101873 0.90891361 0.90669131 0.90440226 0.90208316\n",
            " 0.89975953 0.89744991 0.8951655  0.8929131 ]\n",
            "16 day output [[0.8906977]]\n",
            "17 day input [0.81510781 0.8182799  0.81964801 0.82066221 0.82101611 0.821944\n",
            " 0.82499957 0.82770124 0.82808966 0.82681219 0.83004471 0.83501649\n",
            " 0.83794258 0.84067879 0.84306109 0.84414004 0.84392425 0.84622887\n",
            " 0.84818392 0.8502857  0.85032455 0.84992318 0.85401885 0.85859357\n",
            " 0.85922799 0.86074715 0.86158009 0.86235262 0.86201599 0.86427745\n",
            " 0.86635334 0.86936144 0.86873133 0.86901618 0.87367721 0.87861878\n",
            " 0.88218793 0.88397897 0.88589518 0.88687918 0.88761286 0.88823865\n",
            " 0.89003832 0.89277453 0.89295579 0.89286084 0.89734493 0.90162618\n",
            " 0.90474218 0.9068828  0.90799627 0.91052963 0.91220847 0.91481088\n",
            " 0.91633435 0.91865192 0.9188634  0.91811677 0.92273033 0.92818547\n",
            " 0.92837537 0.92309717 0.9218456  0.92401643 0.93006284 0.93460735\n",
            " 0.93589345 0.93707597 0.93770176 0.93663577 0.93891881 0.94297996\n",
            " 0.9473691  0.95710118 0.96540905 0.97544323 0.97944827 0.98100627\n",
            " 0.98263331 0.99011256 0.99501959 1.         0.91238904 0.91466743\n",
            " 0.91613489 0.91676265 0.91662961 0.9158603  0.91458839 0.91293901\n",
            " 0.91101873 0.90891361 0.90669131 0.90440226 0.90208316 0.89975953\n",
            " 0.89744991 0.8951655  0.8929131  0.89069772]\n",
            "17 day output [[0.8885211]]\n",
            "18 day input [0.8182799  0.81964801 0.82066221 0.82101611 0.821944   0.82499957\n",
            " 0.82770124 0.82808966 0.82681219 0.83004471 0.83501649 0.83794258\n",
            " 0.84067879 0.84306109 0.84414004 0.84392425 0.84622887 0.84818392\n",
            " 0.8502857  0.85032455 0.84992318 0.85401885 0.85859357 0.85922799\n",
            " 0.86074715 0.86158009 0.86235262 0.86201599 0.86427745 0.86635334\n",
            " 0.86936144 0.86873133 0.86901618 0.87367721 0.87861878 0.88218793\n",
            " 0.88397897 0.88589518 0.88687918 0.88761286 0.88823865 0.89003832\n",
            " 0.89277453 0.89295579 0.89286084 0.89734493 0.90162618 0.90474218\n",
            " 0.9068828  0.90799627 0.91052963 0.91220847 0.91481088 0.91633435\n",
            " 0.91865192 0.9188634  0.91811677 0.92273033 0.92818547 0.92837537\n",
            " 0.92309717 0.9218456  0.92401643 0.93006284 0.93460735 0.93589345\n",
            " 0.93707597 0.93770176 0.93663577 0.93891881 0.94297996 0.9473691\n",
            " 0.95710118 0.96540905 0.97544323 0.97944827 0.98100627 0.98263331\n",
            " 0.99011256 0.99501959 1.         0.91238904 0.91466743 0.91613489\n",
            " 0.91676265 0.91662961 0.9158603  0.91458839 0.91293901 0.91101873\n",
            " 0.90891361 0.90669131 0.90440226 0.90208316 0.89975953 0.89744991\n",
            " 0.8951655  0.8929131  0.89069772 0.88852108]\n",
            "18 day output [[0.88638437]]\n",
            "19 day input [0.81964801 0.82066221 0.82101611 0.821944   0.82499957 0.82770124\n",
            " 0.82808966 0.82681219 0.83004471 0.83501649 0.83794258 0.84067879\n",
            " 0.84306109 0.84414004 0.84392425 0.84622887 0.84818392 0.8502857\n",
            " 0.85032455 0.84992318 0.85401885 0.85859357 0.85922799 0.86074715\n",
            " 0.86158009 0.86235262 0.86201599 0.86427745 0.86635334 0.86936144\n",
            " 0.86873133 0.86901618 0.87367721 0.87861878 0.88218793 0.88397897\n",
            " 0.88589518 0.88687918 0.88761286 0.88823865 0.89003832 0.89277453\n",
            " 0.89295579 0.89286084 0.89734493 0.90162618 0.90474218 0.9068828\n",
            " 0.90799627 0.91052963 0.91220847 0.91481088 0.91633435 0.91865192\n",
            " 0.9188634  0.91811677 0.92273033 0.92818547 0.92837537 0.92309717\n",
            " 0.9218456  0.92401643 0.93006284 0.93460735 0.93589345 0.93707597\n",
            " 0.93770176 0.93663577 0.93891881 0.94297996 0.9473691  0.95710118\n",
            " 0.96540905 0.97544323 0.97944827 0.98100627 0.98263331 0.99011256\n",
            " 0.99501959 1.         0.91238904 0.91466743 0.91613489 0.91676265\n",
            " 0.91662961 0.9158603  0.91458839 0.91293901 0.91101873 0.90891361\n",
            " 0.90669131 0.90440226 0.90208316 0.89975953 0.89744991 0.8951655\n",
            " 0.8929131  0.89069772 0.88852108 0.88638437]\n",
            "19 day output [[0.8842872]]\n",
            "20 day input [0.82066221 0.82101611 0.821944   0.82499957 0.82770124 0.82808966\n",
            " 0.82681219 0.83004471 0.83501649 0.83794258 0.84067879 0.84306109\n",
            " 0.84414004 0.84392425 0.84622887 0.84818392 0.8502857  0.85032455\n",
            " 0.84992318 0.85401885 0.85859357 0.85922799 0.86074715 0.86158009\n",
            " 0.86235262 0.86201599 0.86427745 0.86635334 0.86936144 0.86873133\n",
            " 0.86901618 0.87367721 0.87861878 0.88218793 0.88397897 0.88589518\n",
            " 0.88687918 0.88761286 0.88823865 0.89003832 0.89277453 0.89295579\n",
            " 0.89286084 0.89734493 0.90162618 0.90474218 0.9068828  0.90799627\n",
            " 0.91052963 0.91220847 0.91481088 0.91633435 0.91865192 0.9188634\n",
            " 0.91811677 0.92273033 0.92818547 0.92837537 0.92309717 0.9218456\n",
            " 0.92401643 0.93006284 0.93460735 0.93589345 0.93707597 0.93770176\n",
            " 0.93663577 0.93891881 0.94297996 0.9473691  0.95710118 0.96540905\n",
            " 0.97544323 0.97944827 0.98100627 0.98263331 0.99011256 0.99501959\n",
            " 1.         0.91238904 0.91466743 0.91613489 0.91676265 0.91662961\n",
            " 0.9158603  0.91458839 0.91293901 0.91101873 0.90891361 0.90669131\n",
            " 0.90440226 0.90208316 0.89975953 0.89744991 0.8951655  0.8929131\n",
            " 0.89069772 0.88852108 0.88638437 0.88428718]\n",
            "20 day output [[0.8822293]]\n",
            "21 day input [0.82101611 0.821944   0.82499957 0.82770124 0.82808966 0.82681219\n",
            " 0.83004471 0.83501649 0.83794258 0.84067879 0.84306109 0.84414004\n",
            " 0.84392425 0.84622887 0.84818392 0.8502857  0.85032455 0.84992318\n",
            " 0.85401885 0.85859357 0.85922799 0.86074715 0.86158009 0.86235262\n",
            " 0.86201599 0.86427745 0.86635334 0.86936144 0.86873133 0.86901618\n",
            " 0.87367721 0.87861878 0.88218793 0.88397897 0.88589518 0.88687918\n",
            " 0.88761286 0.88823865 0.89003832 0.89277453 0.89295579 0.89286084\n",
            " 0.89734493 0.90162618 0.90474218 0.9068828  0.90799627 0.91052963\n",
            " 0.91220847 0.91481088 0.91633435 0.91865192 0.9188634  0.91811677\n",
            " 0.92273033 0.92818547 0.92837537 0.92309717 0.9218456  0.92401643\n",
            " 0.93006284 0.93460735 0.93589345 0.93707597 0.93770176 0.93663577\n",
            " 0.93891881 0.94297996 0.9473691  0.95710118 0.96540905 0.97544323\n",
            " 0.97944827 0.98100627 0.98263331 0.99011256 0.99501959 1.\n",
            " 0.91238904 0.91466743 0.91613489 0.91676265 0.91662961 0.9158603\n",
            " 0.91458839 0.91293901 0.91101873 0.90891361 0.90669131 0.90440226\n",
            " 0.90208316 0.89975953 0.89744991 0.8951655  0.8929131  0.89069772\n",
            " 0.88852108 0.88638437 0.88428718 0.88222933]\n",
            "21 day output [[0.8802098]]\n",
            "22 day input [0.821944   0.82499957 0.82770124 0.82808966 0.82681219 0.83004471\n",
            " 0.83501649 0.83794258 0.84067879 0.84306109 0.84414004 0.84392425\n",
            " 0.84622887 0.84818392 0.8502857  0.85032455 0.84992318 0.85401885\n",
            " 0.85859357 0.85922799 0.86074715 0.86158009 0.86235262 0.86201599\n",
            " 0.86427745 0.86635334 0.86936144 0.86873133 0.86901618 0.87367721\n",
            " 0.87861878 0.88218793 0.88397897 0.88589518 0.88687918 0.88761286\n",
            " 0.88823865 0.89003832 0.89277453 0.89295579 0.89286084 0.89734493\n",
            " 0.90162618 0.90474218 0.9068828  0.90799627 0.91052963 0.91220847\n",
            " 0.91481088 0.91633435 0.91865192 0.9188634  0.91811677 0.92273033\n",
            " 0.92818547 0.92837537 0.92309717 0.9218456  0.92401643 0.93006284\n",
            " 0.93460735 0.93589345 0.93707597 0.93770176 0.93663577 0.93891881\n",
            " 0.94297996 0.9473691  0.95710118 0.96540905 0.97544323 0.97944827\n",
            " 0.98100627 0.98263331 0.99011256 0.99501959 1.         0.91238904\n",
            " 0.91466743 0.91613489 0.91676265 0.91662961 0.9158603  0.91458839\n",
            " 0.91293901 0.91101873 0.90891361 0.90669131 0.90440226 0.90208316\n",
            " 0.89975953 0.89744991 0.8951655  0.8929131  0.89069772 0.88852108\n",
            " 0.88638437 0.88428718 0.88222933 0.8802098 ]\n",
            "22 day output [[0.8782279]]\n",
            "23 day input [0.82499957 0.82770124 0.82808966 0.82681219 0.83004471 0.83501649\n",
            " 0.83794258 0.84067879 0.84306109 0.84414004 0.84392425 0.84622887\n",
            " 0.84818392 0.8502857  0.85032455 0.84992318 0.85401885 0.85859357\n",
            " 0.85922799 0.86074715 0.86158009 0.86235262 0.86201599 0.86427745\n",
            " 0.86635334 0.86936144 0.86873133 0.86901618 0.87367721 0.87861878\n",
            " 0.88218793 0.88397897 0.88589518 0.88687918 0.88761286 0.88823865\n",
            " 0.89003832 0.89277453 0.89295579 0.89286084 0.89734493 0.90162618\n",
            " 0.90474218 0.9068828  0.90799627 0.91052963 0.91220847 0.91481088\n",
            " 0.91633435 0.91865192 0.9188634  0.91811677 0.92273033 0.92818547\n",
            " 0.92837537 0.92309717 0.9218456  0.92401643 0.93006284 0.93460735\n",
            " 0.93589345 0.93707597 0.93770176 0.93663577 0.93891881 0.94297996\n",
            " 0.9473691  0.95710118 0.96540905 0.97544323 0.97944827 0.98100627\n",
            " 0.98263331 0.99011256 0.99501959 1.         0.91238904 0.91466743\n",
            " 0.91613489 0.91676265 0.91662961 0.9158603  0.91458839 0.91293901\n",
            " 0.91101873 0.90891361 0.90669131 0.90440226 0.90208316 0.89975953\n",
            " 0.89744991 0.8951655  0.8929131  0.89069772 0.88852108 0.88638437\n",
            " 0.88428718 0.88222933 0.8802098  0.87822789]\n",
            "23 day output [[0.8762823]]\n",
            "24 day input [0.82770124 0.82808966 0.82681219 0.83004471 0.83501649 0.83794258\n",
            " 0.84067879 0.84306109 0.84414004 0.84392425 0.84622887 0.84818392\n",
            " 0.8502857  0.85032455 0.84992318 0.85401885 0.85859357 0.85922799\n",
            " 0.86074715 0.86158009 0.86235262 0.86201599 0.86427745 0.86635334\n",
            " 0.86936144 0.86873133 0.86901618 0.87367721 0.87861878 0.88218793\n",
            " 0.88397897 0.88589518 0.88687918 0.88761286 0.88823865 0.89003832\n",
            " 0.89277453 0.89295579 0.89286084 0.89734493 0.90162618 0.90474218\n",
            " 0.9068828  0.90799627 0.91052963 0.91220847 0.91481088 0.91633435\n",
            " 0.91865192 0.9188634  0.91811677 0.92273033 0.92818547 0.92837537\n",
            " 0.92309717 0.9218456  0.92401643 0.93006284 0.93460735 0.93589345\n",
            " 0.93707597 0.93770176 0.93663577 0.93891881 0.94297996 0.9473691\n",
            " 0.95710118 0.96540905 0.97544323 0.97944827 0.98100627 0.98263331\n",
            " 0.99011256 0.99501959 1.         0.91238904 0.91466743 0.91613489\n",
            " 0.91676265 0.91662961 0.9158603  0.91458839 0.91293901 0.91101873\n",
            " 0.90891361 0.90669131 0.90440226 0.90208316 0.89975953 0.89744991\n",
            " 0.8951655  0.8929131  0.89069772 0.88852108 0.88638437 0.88428718\n",
            " 0.88222933 0.8802098  0.87822789 0.87628227]\n",
            "24 day output [[0.8743723]]\n",
            "25 day input [0.82808966 0.82681219 0.83004471 0.83501649 0.83794258 0.84067879\n",
            " 0.84306109 0.84414004 0.84392425 0.84622887 0.84818392 0.8502857\n",
            " 0.85032455 0.84992318 0.85401885 0.85859357 0.85922799 0.86074715\n",
            " 0.86158009 0.86235262 0.86201599 0.86427745 0.86635334 0.86936144\n",
            " 0.86873133 0.86901618 0.87367721 0.87861878 0.88218793 0.88397897\n",
            " 0.88589518 0.88687918 0.88761286 0.88823865 0.89003832 0.89277453\n",
            " 0.89295579 0.89286084 0.89734493 0.90162618 0.90474218 0.9068828\n",
            " 0.90799627 0.91052963 0.91220847 0.91481088 0.91633435 0.91865192\n",
            " 0.9188634  0.91811677 0.92273033 0.92818547 0.92837537 0.92309717\n",
            " 0.9218456  0.92401643 0.93006284 0.93460735 0.93589345 0.93707597\n",
            " 0.93770176 0.93663577 0.93891881 0.94297996 0.9473691  0.95710118\n",
            " 0.96540905 0.97544323 0.97944827 0.98100627 0.98263331 0.99011256\n",
            " 0.99501959 1.         0.91238904 0.91466743 0.91613489 0.91676265\n",
            " 0.91662961 0.9158603  0.91458839 0.91293901 0.91101873 0.90891361\n",
            " 0.90669131 0.90440226 0.90208316 0.89975953 0.89744991 0.8951655\n",
            " 0.8929131  0.89069772 0.88852108 0.88638437 0.88428718 0.88222933\n",
            " 0.8802098  0.87822789 0.87628227 0.8743723 ]\n",
            "25 day output [[0.87249684]]\n",
            "26 day input [0.82681219 0.83004471 0.83501649 0.83794258 0.84067879 0.84306109\n",
            " 0.84414004 0.84392425 0.84622887 0.84818392 0.8502857  0.85032455\n",
            " 0.84992318 0.85401885 0.85859357 0.85922799 0.86074715 0.86158009\n",
            " 0.86235262 0.86201599 0.86427745 0.86635334 0.86936144 0.86873133\n",
            " 0.86901618 0.87367721 0.87861878 0.88218793 0.88397897 0.88589518\n",
            " 0.88687918 0.88761286 0.88823865 0.89003832 0.89277453 0.89295579\n",
            " 0.89286084 0.89734493 0.90162618 0.90474218 0.9068828  0.90799627\n",
            " 0.91052963 0.91220847 0.91481088 0.91633435 0.91865192 0.9188634\n",
            " 0.91811677 0.92273033 0.92818547 0.92837537 0.92309717 0.9218456\n",
            " 0.92401643 0.93006284 0.93460735 0.93589345 0.93707597 0.93770176\n",
            " 0.93663577 0.93891881 0.94297996 0.9473691  0.95710118 0.96540905\n",
            " 0.97544323 0.97944827 0.98100627 0.98263331 0.99011256 0.99501959\n",
            " 1.         0.91238904 0.91466743 0.91613489 0.91676265 0.91662961\n",
            " 0.9158603  0.91458839 0.91293901 0.91101873 0.90891361 0.90669131\n",
            " 0.90440226 0.90208316 0.89975953 0.89744991 0.8951655  0.8929131\n",
            " 0.89069772 0.88852108 0.88638437 0.88428718 0.88222933 0.8802098\n",
            " 0.87822789 0.87628227 0.8743723  0.87249684]\n",
            "26 day output [[0.8706548]]\n",
            "27 day input [0.83004471 0.83501649 0.83794258 0.84067879 0.84306109 0.84414004\n",
            " 0.84392425 0.84622887 0.84818392 0.8502857  0.85032455 0.84992318\n",
            " 0.85401885 0.85859357 0.85922799 0.86074715 0.86158009 0.86235262\n",
            " 0.86201599 0.86427745 0.86635334 0.86936144 0.86873133 0.86901618\n",
            " 0.87367721 0.87861878 0.88218793 0.88397897 0.88589518 0.88687918\n",
            " 0.88761286 0.88823865 0.89003832 0.89277453 0.89295579 0.89286084\n",
            " 0.89734493 0.90162618 0.90474218 0.9068828  0.90799627 0.91052963\n",
            " 0.91220847 0.91481088 0.91633435 0.91865192 0.9188634  0.91811677\n",
            " 0.92273033 0.92818547 0.92837537 0.92309717 0.9218456  0.92401643\n",
            " 0.93006284 0.93460735 0.93589345 0.93707597 0.93770176 0.93663577\n",
            " 0.93891881 0.94297996 0.9473691  0.95710118 0.96540905 0.97544323\n",
            " 0.97944827 0.98100627 0.98263331 0.99011256 0.99501959 1.\n",
            " 0.91238904 0.91466743 0.91613489 0.91676265 0.91662961 0.9158603\n",
            " 0.91458839 0.91293901 0.91101873 0.90891361 0.90669131 0.90440226\n",
            " 0.90208316 0.89975953 0.89744991 0.8951655  0.8929131  0.89069772\n",
            " 0.88852108 0.88638437 0.88428718 0.88222933 0.8802098  0.87822789\n",
            " 0.87628227 0.8743723  0.87249684 0.87065482]\n",
            "27 day output [[0.86884576]]\n",
            "28 day input [0.83501649 0.83794258 0.84067879 0.84306109 0.84414004 0.84392425\n",
            " 0.84622887 0.84818392 0.8502857  0.85032455 0.84992318 0.85401885\n",
            " 0.85859357 0.85922799 0.86074715 0.86158009 0.86235262 0.86201599\n",
            " 0.86427745 0.86635334 0.86936144 0.86873133 0.86901618 0.87367721\n",
            " 0.87861878 0.88218793 0.88397897 0.88589518 0.88687918 0.88761286\n",
            " 0.88823865 0.89003832 0.89277453 0.89295579 0.89286084 0.89734493\n",
            " 0.90162618 0.90474218 0.9068828  0.90799627 0.91052963 0.91220847\n",
            " 0.91481088 0.91633435 0.91865192 0.9188634  0.91811677 0.92273033\n",
            " 0.92818547 0.92837537 0.92309717 0.9218456  0.92401643 0.93006284\n",
            " 0.93460735 0.93589345 0.93707597 0.93770176 0.93663577 0.93891881\n",
            " 0.94297996 0.9473691  0.95710118 0.96540905 0.97544323 0.97944827\n",
            " 0.98100627 0.98263331 0.99011256 0.99501959 1.         0.91238904\n",
            " 0.91466743 0.91613489 0.91676265 0.91662961 0.9158603  0.91458839\n",
            " 0.91293901 0.91101873 0.90891361 0.90669131 0.90440226 0.90208316\n",
            " 0.89975953 0.89744991 0.8951655  0.8929131  0.89069772 0.88852108\n",
            " 0.88638437 0.88428718 0.88222933 0.8802098  0.87822789 0.87628227\n",
            " 0.8743723  0.87249684 0.87065482 0.86884576]\n",
            "28 day output [[0.8670686]]\n",
            "29 day input [0.83794258 0.84067879 0.84306109 0.84414004 0.84392425 0.84622887\n",
            " 0.84818392 0.8502857  0.85032455 0.84992318 0.85401885 0.85859357\n",
            " 0.85922799 0.86074715 0.86158009 0.86235262 0.86201599 0.86427745\n",
            " 0.86635334 0.86936144 0.86873133 0.86901618 0.87367721 0.87861878\n",
            " 0.88218793 0.88397897 0.88589518 0.88687918 0.88761286 0.88823865\n",
            " 0.89003832 0.89277453 0.89295579 0.89286084 0.89734493 0.90162618\n",
            " 0.90474218 0.9068828  0.90799627 0.91052963 0.91220847 0.91481088\n",
            " 0.91633435 0.91865192 0.9188634  0.91811677 0.92273033 0.92818547\n",
            " 0.92837537 0.92309717 0.9218456  0.92401643 0.93006284 0.93460735\n",
            " 0.93589345 0.93707597 0.93770176 0.93663577 0.93891881 0.94297996\n",
            " 0.9473691  0.95710118 0.96540905 0.97544323 0.97944827 0.98100627\n",
            " 0.98263331 0.99011256 0.99501959 1.         0.91238904 0.91466743\n",
            " 0.91613489 0.91676265 0.91662961 0.9158603  0.91458839 0.91293901\n",
            " 0.91101873 0.90891361 0.90669131 0.90440226 0.90208316 0.89975953\n",
            " 0.89744991 0.8951655  0.8929131  0.89069772 0.88852108 0.88638437\n",
            " 0.88428718 0.88222933 0.8802098  0.87822789 0.87628227 0.8743723\n",
            " 0.87249684 0.87065482 0.86884576 0.86706859]\n",
            "29 day output [[0.8653229]]\n",
            "[[0.9146674275398254], [0.9161348938941956], [0.91676265001297], [0.9166296124458313], [0.9158602952957153], [0.9145883917808533], [0.9129390120506287], [0.9110187292098999], [0.9089136123657227], [0.906691312789917], [0.9044022560119629], [0.902083158493042], [0.8997595310211182], [0.8974499106407166], [0.8951655030250549], [0.8929131031036377], [0.890697717666626], [0.8885210752487183], [0.8863843679428101], [0.8842871785163879], [0.8822293281555176], [0.8802098035812378], [0.8782278895378113], [0.876282274723053], [0.8743723034858704], [0.8724968433380127], [0.870654821395874], [0.8688457608222961], [0.8670685887336731], [0.8653228878974915]]\n"
          ]
        }
      ]
    },
    {
      "cell_type": "code",
      "source": [
        "import matplotlib.pyplot as plt"
      ],
      "metadata": {
        "id": "-1KlCiriIY7a"
      },
      "id": "-1KlCiriIY7a",
      "execution_count": 58,
      "outputs": []
    },
    {
      "cell_type": "code",
      "source": [
        "len(df)"
      ],
      "metadata": {
        "colab": {
          "base_uri": "https://localhost:8080/"
        },
        "id": "fCSVy1ROA96T",
        "outputId": "1022455c-9c45-486a-e4f6-423eb050bf3a"
      },
      "id": "fCSVy1ROA96T",
      "execution_count": 59,
      "outputs": [
        {
          "output_type": "execute_result",
          "data": {
            "text/plain": [
              "564"
            ]
          },
          "metadata": {},
          "execution_count": 59
        }
      ]
    },
    {
      "cell_type": "code",
      "source": [
        "day_new=np.arange(1,101)\n",
        "day_pred=np.arange(101,131)"
      ],
      "metadata": {
        "id": "Ax5hA2daBOaX"
      },
      "id": "Ax5hA2daBOaX",
      "execution_count": 72,
      "outputs": []
    },
    {
      "cell_type": "code",
      "source": [
        "plt.plot(day_new,scaler.inverse_transform(df[464:]))\n",
        "plt.plot(day_pred,scaler.inverse_transform(lst_output))"
      ],
      "metadata": {
        "colab": {
          "base_uri": "https://localhost:8080/",
          "height": 283
        },
        "id": "87UyTfxeBEQq",
        "outputId": "1441724e-f1aa-4345-9cf5-a10052bdca69"
      },
      "id": "87UyTfxeBEQq",
      "execution_count": 73,
      "outputs": [
        {
          "output_type": "execute_result",
          "data": {
            "text/plain": [
              "[<matplotlib.lines.Line2D at 0x7f91681cb2e0>]"
            ]
          },
          "metadata": {},
          "execution_count": 73
        },
        {
          "output_type": "display_data",
          "data": {
            "text/plain": [
              "<Figure size 432x288 with 1 Axes>"
            ],
            "image/png": "[encoded data removed]"
          },
          "metadata": {
            "needs_background": "light"
          }
        }
      ]
    },
    {
      "cell_type": "code",
      "source": [
        "df1=df\n",
        "df3=df1.tolist()\n",
        "df3.extend(lst_output)\n",
        "plt.plot(df3[464:])"
      ],
      "metadata": {
        "colab": {
          "base_uri": "https://localhost:8080/",
          "height": 283
        },
        "id": "_Zc-OH-SBMNV",
        "outputId": "b7c37122-a014-483d-afac-5f8b7dbd9589"
      },
      "id": "_Zc-OH-SBMNV",
      "execution_count": 76,
      "outputs": [
        {
          "output_type": "execute_result",
          "data": {
            "text/plain": [
              "[<matplotlib.lines.Line2D at 0x7f91684f5c10>]"
            ]
          },
          "metadata": {},
          "execution_count": 76
        },
        {
          "output_type": "display_data",
          "data": {
            "text/plain": [
              "<Figure size 432x288 with 1 Axes>"
            ],
            "image/png": "[encoded data removed]"
          },
          "metadata": {
            "needs_background": "light"
          }
        }
      ]
    },
    {
      "cell_type": "code",
      "source": [
        "df3=scaler.inverse_transform(df3).tolist()\n"
      ],
      "metadata": {
        "id": "wT5-3lpWHp7K"
      },
      "id": "wT5-3lpWHp7K",
      "execution_count": 77,
      "outputs": []
    },
    {
      "cell_type": "code",
      "source": [
        "plt.plot(df3)"
      ],
      "metadata": {
        "colab": {
          "base_uri": "https://localhost:8080/",
          "height": 283
        },
        "id": "QlfuLni-IMvn",
        "outputId": "b7d1deca-fa05-4c4c-9e13-d5a449ca40d9"
      },
      "id": "QlfuLni-IMvn",
      "execution_count": 78,
      "outputs": [
        {
          "output_type": "execute_result",
          "data": {
            "text/plain": [
              "[<matplotlib.lines.Line2D at 0x7f9168234070>]"
            ]
          },
          "metadata": {},
          "execution_count": 78
        },
        {
          "output_type": "display_data",
          "data": {
            "text/plain": [
              "<Figure size 432x288 with 1 Axes>"
            ],
            "image/png": "[encoded data removed]"
          },
          "metadata": {
            "needs_background": "light"
          }
        }
      ]
    },
    {
      "cell_type": "code",
      "source": [],
      "metadata": {
        "id": "7-JLsknnIPj_"
      },
      "id": "7-JLsknnIPj_",
      "execution_count": null,
      "outputs": []
    }
  ],
  "metadata": {
    "kernelspec": {
      "name": "python3",
      "display_name": "Python 3.10.5 64-bit"
    },
    "language_info": {
      "codemirror_mode": {
        "name": "ipython",
        "version": 3
      },
      "file_extension": ".py",
      "mimetype": "text/x-python",
      "name": "python",
      "nbconvert_exporter": "python",
      "pygments_lexer": "ipython3",
      "version": "3.10.5"
    },
    "interpreter": {
      "hash": "98590ff4fe04c8543246b2a01debd3de3c5ca9b666f43f1fa87d5110c692004c"
    },
    "colab": {
      "provenance": [],
      "include_colab_link": true
    }
  },
  "nbformat": 4,
  "nbformat_minor": 5
}